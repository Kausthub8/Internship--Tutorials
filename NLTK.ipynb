{
  "nbformat": 4,
  "nbformat_minor": 0,
  "metadata": {
    "colab": {
      "name": "NLTK.ipynb",
      "provenance": []
    },
    "kernelspec": {
      "name": "python3",
      "display_name": "Python 3"
    },
    "language_info": {
      "name": "python"
    }
  },
  "cells": [
    {
      "cell_type": "code",
      "metadata": {
        "colab": {
          "base_uri": "https://localhost:8080/"
        },
        "id": "5Lxp9ztzxoo4",
        "outputId": "e5be1c66-1fed-44df-d78a-522ccba481b2"
      },
      "source": [
        "import nltk\n",
        "nltk.download('punkt')"
      ],
      "execution_count": null,
      "outputs": [
        {
          "output_type": "stream",
          "text": [
            "[nltk_data] Downloading package punkt to /root/nltk_data...\n",
            "[nltk_data]   Unzipping tokenizers/punkt.zip.\n"
          ],
          "name": "stdout"
        },
        {
          "output_type": "execute_result",
          "data": {
            "text/plain": [
              "True"
            ]
          },
          "metadata": {
            "tags": []
          },
          "execution_count": 2
        }
      ]
    },
    {
      "cell_type": "code",
      "metadata": {
        "colab": {
          "base_uri": "https://localhost:8080/"
        },
        "id": "vrtZxwI0tWdV",
        "outputId": "c80e4a43-e9da-4ca2-80d2-d870061aaeb7"
      },
      "source": [
        "import nltk  #Tokenization \n",
        "from nltk.tokenize import sent_tokenize\n",
        "text = \"\"\"Hello BVC, how are you? Is the class going on? I guess it's already 9:28am\"\"\"\n",
        "tokenized_text = sent_tokenize(text)\n",
        "print(tokenized_text)"
      ],
      "execution_count": null,
      "outputs": [
        {
          "output_type": "stream",
          "text": [
            "['Hello BVC, how are you?', 'Is the class going on?', \"I guess it's already 9:28am\"]\n"
          ],
          "name": "stdout"
        }
      ]
    },
    {
      "cell_type": "code",
      "metadata": {
        "colab": {
          "base_uri": "https://localhost:8080/"
        },
        "id": "WHlyZeL3ybKo",
        "outputId": "5ec8ec61-3bcf-4bae-e4bd-c943fee1121a"
      },
      "source": [
        "from nltk.tokenize import word_tokenize\n",
        "tokenized_word = word_tokenize(text)\n",
        "print(tokenized_word)"
      ],
      "execution_count": null,
      "outputs": [
        {
          "output_type": "stream",
          "text": [
            "['Hello', 'BVC', ',', 'how', 'are', 'you', '?', 'Is', 'the', 'class', 'going', 'on', '?', 'I', 'guess', 'it', \"'s\", 'already', '9:28am']\n"
          ],
          "name": "stdout"
        }
      ]
    },
    {
      "cell_type": "code",
      "metadata": {
        "colab": {
          "base_uri": "https://localhost:8080/"
        },
        "id": "PSPnXJNHy7JR",
        "outputId": "e448dd55-da7a-41d3-84c7-12eb37c549d8"
      },
      "source": [
        "from nltk.probability import FreqDist\n",
        "fdist = FreqDist(tokenized_word)\n",
        "print(fdist)"
      ],
      "execution_count": null,
      "outputs": [
        {
          "output_type": "stream",
          "text": [
            "<FreqDist with 18 samples and 19 outcomes>\n"
          ],
          "name": "stdout"
        }
      ]
    },
    {
      "cell_type": "code",
      "metadata": {
        "colab": {
          "base_uri": "https://localhost:8080/",
          "height": 307
        },
        "id": "MErIcgvo0UAX",
        "outputId": "dad2ad03-8534-4bd6-95b4-572239d84d5b"
      },
      "source": [
        "import matplotlib.pyplot as plt\n",
        "fdist.plot(25,cumulative = False)\n",
        "plt.show()\n"
      ],
      "execution_count": null,
      "outputs": [
        {
          "output_type": "display_data",
          "data": {
            "image/png": "[encoded data removed]",
            "text/plain": [
              "<Figure size 432x288 with 1 Axes>"
            ]
          },
          "metadata": {
            "tags": [],
            "needs_background": "light"
          }
        }
      ]
    },
    {
      "cell_type": "code",
      "metadata": {
        "colab": {
          "base_uri": "https://localhost:8080/"
        },
        "id": "8emwclag1KmW",
        "outputId": "56591157-a96f-4a6b-8c55-2504a8d1e92e"
      },
      "source": [
        "#Stopwords - Noisy data in a sentence\n",
        "\n",
        "import nltk\n",
        "nltk.download('stopwords')\n",
        "\n",
        "from nltk.corpus import stopwords\n",
        "stop_words = set(stopwords.words(\"english\"))\n",
        "print(stop_words)"
      ],
      "execution_count": null,
      "outputs": [
        {
          "output_type": "stream",
          "text": [
            "[nltk_data] Downloading package stopwords to /root/nltk_data...\n",
            "[nltk_data]   Package stopwords is already up-to-date!\n",
            "{'am', \"didn't\", 'will', 'where', \"weren't\", \"it's\", 'ours', \"you'll\", 'nor', 'needn', 'she', 'be', 'wasn', 'doing', 'up', 'you', 'any', 'itself', 'while', 'isn', 'than', 'these', 'here', \"mightn't\", 'theirs', 'such', 'a', 'further', \"wasn't\", \"couldn't\", 'yourself', 'below', \"you'd\", 'yours', 'off', 'on', 'ourselves', \"she's\", \"mustn't\", 'is', \"don't\", 'too', 'if', 'their', 'haven', 'has', \"wouldn't\", 'own', 'very', \"hasn't\", 'in', 'most', 'himself', 'those', 'shan', 'mightn', 'until', 'do', 'about', 'why', \"should've\", \"doesn't\", \"you've\", 'with', 'being', 'some', \"aren't\", 'they', 'for', 'm', 'which', 'didn', 'don', 'can', 'when', \"shan't\", 'few', 'o', 'there', \"hadn't\", 'its', 'as', 'my', 'her', 'them', 'through', 'the', 'before', 'him', 'but', 'from', 'who', 'that', 'this', 'couldn', 'to', 'other', \"isn't\", 'having', 'how', 'myself', 'by', 'wouldn', 'more', 'ain', 'between', 'or', 'no', 'he', 'under', 'hasn', 'have', 'ma', 'i', 'because', 'of', 'whom', 'was', 't', 'll', 'hadn', 'weren', 'an', 'after', 'should', 'y', 'so', 'now', 'does', 'd', 'were', 'our', 'yourselves', 'just', 'themselves', 'both', 'only', 'same', 'doesn', 'down', 'won', 'all', 'it', \"that'll\", 'during', \"you're\", 'hers', 'not', 'and', 'mustn', 'are', 'aren', \"haven't\", \"needn't\", 've', 'shouldn', 'against', 'once', 'what', 's', 'we', 'out', 'again', 're', 'his', 'did', 'into', \"won't\", 'herself', 'above', 'me', 'then', 'had', \"shouldn't\", 'each', 'your', 'over', 'been', 'at'}\n"
          ],
          "name": "stdout"
        }
      ]
    },
    {
      "cell_type": "code",
      "metadata": {
        "colab": {
          "base_uri": "https://localhost:8080/"
        },
        "id": "nRT_wEEv39fg",
        "outputId": "bba3ab73-7f3d-4187-d533-0f9749ec8ab7"
      },
      "source": [
        "filtered_sent = []\n",
        "for w in tokenized_text:\n",
        "  if w not in stop_words:\n",
        "    filtered_sent.append(w)\n",
        "\n",
        "print(\"Tokenized sentence:\", tokenized_text)\n",
        "print(\"Filtered sentence:\", filtered_sent)"
      ],
      "execution_count": null,
      "outputs": [
        {
          "output_type": "stream",
          "text": [
            "Tokenized sentence: ['Hello BVC, how are you?', 'Is the class going on?', \"I guess it's already 9:28am\"]\n",
            "Filtered sentence: ['Hello BVC, how are you?', 'Is the class going on?', \"I guess it's already 9:28am\"]\n"
          ],
          "name": "stdout"
        }
      ]
    },
    {
      "cell_type": "code",
      "metadata": {
        "id": "8341d4vB5Kuo"
      },
      "source": [
        "#Stemming - Based upon root word, you can get other values\n",
        "#Lemmatization - Based upon comparitive and superalative forms\n",
        "#POS TAGGING - Parts of speech Virat - NN, Good - ADJ, Playing -ADV\n",
        "#Sentiment analysis: 1. Lexicon based 2. ML model\n",
        "\n"
      ],
      "execution_count": null,
      "outputs": []
    }
  ]
}