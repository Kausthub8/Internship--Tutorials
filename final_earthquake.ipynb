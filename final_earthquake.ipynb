{
  "nbformat": 4,
  "nbformat_minor": 0,
  "metadata": {
    "kernelspec": {
      "display_name": "tcl",
      "language": "python",
      "name": "tcl"
    },
    "language_info": {
      "codemirror_mode": {
        "name": "ipython",
        "version": 3
      },
      "file_extension": ".py",
      "mimetype": "text/x-python",
      "name": "python",
      "nbconvert_exporter": "python",
      "pygments_lexer": "ipython3",
      "version": "3.7.9"
    },
    "colab": {
      "name": "final-earthquake.ipynb",
      "provenance": []
    }
  },
  "cells": [
    {
      "cell_type": "code",
      "metadata": {
        "id": "1cifhGUQhiZa"
      },
      "source": [
        "import pandas as pd\n",
        "import numpy as np\n",
        "import seaborn as sns\n",
        "import matplotlib.pyplot as plt\n",
        "import scipy.stats as ss\n",
        "from scipy.stats import chi2_contingency\n",
        "from scipy.stats import chi2\n",
        "from sklearn.ensemble import RandomForestRegressor, RandomForestClassifier\n",
        "from sklearn.tree import DecisionTreeClassifier"
      ],
      "execution_count": null,
      "outputs": []
    },
    {
      "cell_type": "code",
      "metadata": {
        "id": "D7M7iDAthiZc"
      },
      "source": [
        "train=pd.read_csv('Dataset/train.csv')\n",
        "test=pd.read_csv('Dataset/test.csv')"
      ],
      "execution_count": null,
      "outputs": []
    },
    {
      "cell_type": "code",
      "metadata": {
        "id": "QKwBpZfwhiZd",
        "outputId": "ee01c733-0dab-4bbf-dc9e-3b15eaef580e"
      },
      "source": [
        "train.shape,test.shape"
      ],
      "execution_count": null,
      "outputs": [
        {
          "output_type": "execute_result",
          "data": {
            "text/plain": [
              "((631761, 14), (421175, 13))"
            ]
          },
          "metadata": {
            "tags": []
          },
          "execution_count": 4
        }
      ]
    },
    {
      "cell_type": "code",
      "metadata": {
        "id": "eHYhhFUNhiZf",
        "outputId": "b1350a38-4073-4bf5-d76d-25892861ead1"
      },
      "source": [
        "train.head()"
      ],
      "execution_count": null,
      "outputs": [
        {
          "output_type": "execute_result",
          "data": {
            "text/html": [
              "<div>\n",
              "<style scoped>\n",
              "    .dataframe tbody tr th:only-of-type {\n",
              "        vertical-align: middle;\n",
              "    }\n",
              "\n",
              "    .dataframe tbody tr th {\n",
              "        vertical-align: top;\n",
              "    }\n",
              "\n",
              "    .dataframe thead th {\n",
              "        text-align: right;\n",
              "    }\n",
              "</style>\n",
              "<table border=\"1\" class=\"dataframe\">\n",
              "  <thead>\n",
              "    <tr style=\"text-align: right;\">\n",
              "      <th></th>\n",
              "      <th>area_assesed</th>\n",
              "      <th>building_id</th>\n",
              "      <th>damage_grade</th>\n",
              "      <th>district_id</th>\n",
              "      <th>has_geotechnical_risk</th>\n",
              "      <th>has_geotechnical_risk_fault_crack</th>\n",
              "      <th>has_geotechnical_risk_flood</th>\n",
              "      <th>has_geotechnical_risk_land_settlement</th>\n",
              "      <th>has_geotechnical_risk_landslide</th>\n",
              "      <th>has_geotechnical_risk_liquefaction</th>\n",
              "      <th>has_geotechnical_risk_other</th>\n",
              "      <th>has_geotechnical_risk_rock_fall</th>\n",
              "      <th>has_repair_started</th>\n",
              "      <th>vdcmun_id</th>\n",
              "    </tr>\n",
              "  </thead>\n",
              "  <tbody>\n",
              "    <tr>\n",
              "      <th>0</th>\n",
              "      <td>Both</td>\n",
              "      <td>24385bfd2a2</td>\n",
              "      <td>Grade 4</td>\n",
              "      <td>24</td>\n",
              "      <td>0.0</td>\n",
              "      <td>0</td>\n",
              "      <td>0</td>\n",
              "      <td>0</td>\n",
              "      <td>0</td>\n",
              "      <td>0</td>\n",
              "      <td>0</td>\n",
              "      <td>0</td>\n",
              "      <td>0.0</td>\n",
              "      <td>2489</td>\n",
              "    </tr>\n",
              "    <tr>\n",
              "      <th>1</th>\n",
              "      <td>Both</td>\n",
              "      <td>405d1bbebbf</td>\n",
              "      <td>Grade 2</td>\n",
              "      <td>44</td>\n",
              "      <td>0.0</td>\n",
              "      <td>0</td>\n",
              "      <td>0</td>\n",
              "      <td>0</td>\n",
              "      <td>0</td>\n",
              "      <td>0</td>\n",
              "      <td>0</td>\n",
              "      <td>0</td>\n",
              "      <td>1.0</td>\n",
              "      <td>4423</td>\n",
              "    </tr>\n",
              "    <tr>\n",
              "      <th>2</th>\n",
              "      <td>Both</td>\n",
              "      <td>351d9bc71f6</td>\n",
              "      <td>Grade 1</td>\n",
              "      <td>36</td>\n",
              "      <td>0.0</td>\n",
              "      <td>0</td>\n",
              "      <td>0</td>\n",
              "      <td>0</td>\n",
              "      <td>0</td>\n",
              "      <td>0</td>\n",
              "      <td>0</td>\n",
              "      <td>0</td>\n",
              "      <td>0.0</td>\n",
              "      <td>3650</td>\n",
              "    </tr>\n",
              "    <tr>\n",
              "      <th>3</th>\n",
              "      <td>Building removed</td>\n",
              "      <td>2be3a971166</td>\n",
              "      <td>Grade 5</td>\n",
              "      <td>30</td>\n",
              "      <td>0.0</td>\n",
              "      <td>0</td>\n",
              "      <td>0</td>\n",
              "      <td>0</td>\n",
              "      <td>0</td>\n",
              "      <td>0</td>\n",
              "      <td>0</td>\n",
              "      <td>0</td>\n",
              "      <td>0.0</td>\n",
              "      <td>3016</td>\n",
              "    </tr>\n",
              "    <tr>\n",
              "      <th>4</th>\n",
              "      <td>Both</td>\n",
              "      <td>34c7d073ea6</td>\n",
              "      <td>Grade 3</td>\n",
              "      <td>36</td>\n",
              "      <td>0.0</td>\n",
              "      <td>0</td>\n",
              "      <td>0</td>\n",
              "      <td>0</td>\n",
              "      <td>0</td>\n",
              "      <td>0</td>\n",
              "      <td>0</td>\n",
              "      <td>0</td>\n",
              "      <td>0.0</td>\n",
              "      <td>3627</td>\n",
              "    </tr>\n",
              "  </tbody>\n",
              "</table>\n",
              "</div>"
            ],
            "text/plain": [
              "       area_assesed  building_id damage_grade  district_id  \\\n",
              "0              Both  24385bfd2a2      Grade 4           24   \n",
              "1              Both  405d1bbebbf      Grade 2           44   \n",
              "2              Both  351d9bc71f6      Grade 1           36   \n",
              "3  Building removed  2be3a971166      Grade 5           30   \n",
              "4              Both  34c7d073ea6      Grade 3           36   \n",
              "\n",
              "   has_geotechnical_risk  has_geotechnical_risk_fault_crack  \\\n",
              "0                    0.0                                  0   \n",
              "1                    0.0                                  0   \n",
              "2                    0.0                                  0   \n",
              "3                    0.0                                  0   \n",
              "4                    0.0                                  0   \n",
              "\n",
              "   has_geotechnical_risk_flood  has_geotechnical_risk_land_settlement  \\\n",
              "0                            0                                      0   \n",
              "1                            0                                      0   \n",
              "2                            0                                      0   \n",
              "3                            0                                      0   \n",
              "4                            0                                      0   \n",
              "\n",
              "   has_geotechnical_risk_landslide  has_geotechnical_risk_liquefaction  \\\n",
              "0                                0                                   0   \n",
              "1                                0                                   0   \n",
              "2                                0                                   0   \n",
              "3                                0                                   0   \n",
              "4                                0                                   0   \n",
              "\n",
              "   has_geotechnical_risk_other  has_geotechnical_risk_rock_fall  \\\n",
              "0                            0                                0   \n",
              "1                            0                                0   \n",
              "2                            0                                0   \n",
              "3                            0                                0   \n",
              "4                            0                                0   \n",
              "\n",
              "   has_repair_started  vdcmun_id  \n",
              "0                 0.0       2489  \n",
              "1                 1.0       4423  \n",
              "2                 0.0       3650  \n",
              "3                 0.0       3016  \n",
              "4                 0.0       3627  "
            ]
          },
          "metadata": {
            "tags": []
          },
          "execution_count": 5
        }
      ]
    },
    {
      "cell_type": "code",
      "metadata": {
        "id": "FBzS-bJshiZg",
        "outputId": "cf61a684-453f-4612-c0b3-9f654b8f5336"
      },
      "source": [
        "test.head()"
      ],
      "execution_count": null,
      "outputs": [
        {
          "output_type": "execute_result",
          "data": {
            "text/html": [
              "<div>\n",
              "<style scoped>\n",
              "    .dataframe tbody tr th:only-of-type {\n",
              "        vertical-align: middle;\n",
              "    }\n",
              "\n",
              "    .dataframe tbody tr th {\n",
              "        vertical-align: top;\n",
              "    }\n",
              "\n",
              "    .dataframe thead th {\n",
              "        text-align: right;\n",
              "    }\n",
              "</style>\n",
              "<table border=\"1\" class=\"dataframe\">\n",
              "  <thead>\n",
              "    <tr style=\"text-align: right;\">\n",
              "      <th></th>\n",
              "      <th>area_assesed</th>\n",
              "      <th>building_id</th>\n",
              "      <th>district_id</th>\n",
              "      <th>has_geotechnical_risk</th>\n",
              "      <th>has_geotechnical_risk_fault_crack</th>\n",
              "      <th>has_geotechnical_risk_flood</th>\n",
              "      <th>has_geotechnical_risk_land_settlement</th>\n",
              "      <th>has_geotechnical_risk_landslide</th>\n",
              "      <th>has_geotechnical_risk_liquefaction</th>\n",
              "      <th>has_geotechnical_risk_other</th>\n",
              "      <th>has_geotechnical_risk_rock_fall</th>\n",
              "      <th>has_repair_started</th>\n",
              "      <th>vdcmun_id</th>\n",
              "    </tr>\n",
              "  </thead>\n",
              "  <tbody>\n",
              "    <tr>\n",
              "      <th>0</th>\n",
              "      <td>Both</td>\n",
              "      <td>a3380c4f75</td>\n",
              "      <td>7</td>\n",
              "      <td>0.0</td>\n",
              "      <td>0</td>\n",
              "      <td>0</td>\n",
              "      <td>0</td>\n",
              "      <td>0</td>\n",
              "      <td>0</td>\n",
              "      <td>0</td>\n",
              "      <td>0</td>\n",
              "      <td>1.0</td>\n",
              "      <td>701</td>\n",
              "    </tr>\n",
              "    <tr>\n",
              "      <th>1</th>\n",
              "      <td>Both</td>\n",
              "      <td>a338a4e653</td>\n",
              "      <td>7</td>\n",
              "      <td>0.0</td>\n",
              "      <td>0</td>\n",
              "      <td>0</td>\n",
              "      <td>0</td>\n",
              "      <td>0</td>\n",
              "      <td>0</td>\n",
              "      <td>0</td>\n",
              "      <td>0</td>\n",
              "      <td>1.0</td>\n",
              "      <td>701</td>\n",
              "    </tr>\n",
              "    <tr>\n",
              "      <th>2</th>\n",
              "      <td>Building removed</td>\n",
              "      <td>a338a4e6b7</td>\n",
              "      <td>7</td>\n",
              "      <td>0.0</td>\n",
              "      <td>0</td>\n",
              "      <td>0</td>\n",
              "      <td>0</td>\n",
              "      <td>0</td>\n",
              "      <td>0</td>\n",
              "      <td>0</td>\n",
              "      <td>0</td>\n",
              "      <td>1.0</td>\n",
              "      <td>701</td>\n",
              "    </tr>\n",
              "    <tr>\n",
              "      <th>3</th>\n",
              "      <td>Both</td>\n",
              "      <td>a33a6eaa3a</td>\n",
              "      <td>7</td>\n",
              "      <td>0.0</td>\n",
              "      <td>0</td>\n",
              "      <td>0</td>\n",
              "      <td>0</td>\n",
              "      <td>0</td>\n",
              "      <td>0</td>\n",
              "      <td>0</td>\n",
              "      <td>0</td>\n",
              "      <td>1.0</td>\n",
              "      <td>701</td>\n",
              "    </tr>\n",
              "    <tr>\n",
              "      <th>4</th>\n",
              "      <td>Building removed</td>\n",
              "      <td>a33b073ff6</td>\n",
              "      <td>7</td>\n",
              "      <td>0.0</td>\n",
              "      <td>0</td>\n",
              "      <td>0</td>\n",
              "      <td>0</td>\n",
              "      <td>0</td>\n",
              "      <td>0</td>\n",
              "      <td>0</td>\n",
              "      <td>0</td>\n",
              "      <td>1.0</td>\n",
              "      <td>701</td>\n",
              "    </tr>\n",
              "  </tbody>\n",
              "</table>\n",
              "</div>"
            ],
            "text/plain": [
              "       area_assesed building_id  district_id  has_geotechnical_risk  \\\n",
              "0              Both  a3380c4f75            7                    0.0   \n",
              "1              Both  a338a4e653            7                    0.0   \n",
              "2  Building removed  a338a4e6b7            7                    0.0   \n",
              "3              Both  a33a6eaa3a            7                    0.0   \n",
              "4  Building removed  a33b073ff6            7                    0.0   \n",
              "\n",
              "   has_geotechnical_risk_fault_crack  has_geotechnical_risk_flood  \\\n",
              "0                                  0                            0   \n",
              "1                                  0                            0   \n",
              "2                                  0                            0   \n",
              "3                                  0                            0   \n",
              "4                                  0                            0   \n",
              "\n",
              "   has_geotechnical_risk_land_settlement  has_geotechnical_risk_landslide  \\\n",
              "0                                      0                                0   \n",
              "1                                      0                                0   \n",
              "2                                      0                                0   \n",
              "3                                      0                                0   \n",
              "4                                      0                                0   \n",
              "\n",
              "   has_geotechnical_risk_liquefaction  has_geotechnical_risk_other  \\\n",
              "0                                   0                            0   \n",
              "1                                   0                            0   \n",
              "2                                   0                            0   \n",
              "3                                   0                            0   \n",
              "4                                   0                            0   \n",
              "\n",
              "   has_geotechnical_risk_rock_fall  has_repair_started  vdcmun_id  \n",
              "0                                0                 1.0        701  \n",
              "1                                0                 1.0        701  \n",
              "2                                0                 1.0        701  \n",
              "3                                0                 1.0        701  \n",
              "4                                0                 1.0        701  "
            ]
          },
          "metadata": {
            "tags": []
          },
          "execution_count": 6
        }
      ]
    },
    {
      "cell_type": "code",
      "metadata": {
        "id": "YCPTPhkGhiZg",
        "outputId": "4bfef777-3521-4809-cc8b-944b986b6ff2"
      },
      "source": [
        "train.columns,test.columns"
      ],
      "execution_count": null,
      "outputs": [
        {
          "output_type": "execute_result",
          "data": {
            "text/plain": [
              "(Index(['area_assesed', 'building_id', 'damage_grade', 'district_id',\n",
              "        'has_geotechnical_risk', 'has_geotechnical_risk_fault_crack',\n",
              "        'has_geotechnical_risk_flood', 'has_geotechnical_risk_land_settlement',\n",
              "        'has_geotechnical_risk_landslide', 'has_geotechnical_risk_liquefaction',\n",
              "        'has_geotechnical_risk_other', 'has_geotechnical_risk_rock_fall',\n",
              "        'has_repair_started', 'vdcmun_id'],\n",
              "       dtype='object'),\n",
              " Index(['area_assesed', 'building_id', 'district_id', 'has_geotechnical_risk',\n",
              "        'has_geotechnical_risk_fault_crack', 'has_geotechnical_risk_flood',\n",
              "        'has_geotechnical_risk_land_settlement',\n",
              "        'has_geotechnical_risk_landslide', 'has_geotechnical_risk_liquefaction',\n",
              "        'has_geotechnical_risk_other', 'has_geotechnical_risk_rock_fall',\n",
              "        'has_repair_started', 'vdcmun_id'],\n",
              "       dtype='object'))"
            ]
          },
          "metadata": {
            "tags": []
          },
          "execution_count": 7
        }
      ]
    },
    {
      "cell_type": "code",
      "metadata": {
        "id": "2N6v14JWhiZh",
        "outputId": "92fac087-0df4-4ff2-813c-9ff5464b2ce6"
      },
      "source": [
        "len(train.columns),len(test.columns)"
      ],
      "execution_count": null,
      "outputs": [
        {
          "output_type": "execute_result",
          "data": {
            "text/plain": [
              "(14, 13)"
            ]
          },
          "metadata": {
            "tags": []
          },
          "execution_count": 8
        }
      ]
    },
    {
      "cell_type": "code",
      "metadata": {
        "id": "CXcv1-omhiZi",
        "outputId": "d5ec4607-2b8e-4fed-d272-26351be33eb8"
      },
      "source": [
        "train.isnull().sum()"
      ],
      "execution_count": null,
      "outputs": [
        {
          "output_type": "execute_result",
          "data": {
            "text/plain": [
              "area_assesed                                 0\n",
              "building_id                                  0\n",
              "damage_grade                                 0\n",
              "district_id                                  0\n",
              "has_geotechnical_risk                        0\n",
              "has_geotechnical_risk_fault_crack            0\n",
              "has_geotechnical_risk_flood                  0\n",
              "has_geotechnical_risk_land_settlement        0\n",
              "has_geotechnical_risk_landslide              0\n",
              "has_geotechnical_risk_liquefaction           0\n",
              "has_geotechnical_risk_other                  0\n",
              "has_geotechnical_risk_rock_fall              0\n",
              "has_repair_started                       33417\n",
              "vdcmun_id                                    0\n",
              "dtype: int64"
            ]
          },
          "metadata": {
            "tags": []
          },
          "execution_count": 9
        }
      ]
    },
    {
      "cell_type": "code",
      "metadata": {
        "id": "EX5gDX_ahiZj",
        "outputId": "09bce780-a846-4f71-fa8a-502b64781209"
      },
      "source": [
        "test.isnull().sum()"
      ],
      "execution_count": null,
      "outputs": [
        {
          "output_type": "execute_result",
          "data": {
            "text/plain": [
              "area_assesed                                 0\n",
              "building_id                                  0\n",
              "district_id                                  0\n",
              "has_geotechnical_risk                        0\n",
              "has_geotechnical_risk_fault_crack            0\n",
              "has_geotechnical_risk_flood                  0\n",
              "has_geotechnical_risk_land_settlement        0\n",
              "has_geotechnical_risk_landslide              0\n",
              "has_geotechnical_risk_liquefaction           0\n",
              "has_geotechnical_risk_other                  0\n",
              "has_geotechnical_risk_rock_fall              0\n",
              "has_repair_started                       21922\n",
              "vdcmun_id                                    0\n",
              "dtype: int64"
            ]
          },
          "metadata": {
            "tags": []
          },
          "execution_count": 10
        }
      ]
    },
    {
      "cell_type": "code",
      "metadata": {
        "id": "FaPj5CRThiZk"
      },
      "source": [
        "owner = pd.read_csv('Dataset/Building_Ownership_Use.csv')\n",
        "structure = pd.read_csv('Dataset/Building_Structure.csv')"
      ],
      "execution_count": null,
      "outputs": []
    },
    {
      "cell_type": "code",
      "metadata": {
        "id": "PGtiQ9wMhiZl"
      },
      "source": [
        "combine = pd.merge(owner,structure, on='building_id')\n",
        "trainfinal = pd.merge(combine,train, on = 'building_id')\n",
        "testfinal = pd.merge(combine,test, on = 'building_id')"
      ],
      "execution_count": null,
      "outputs": []
    },
    {
      "cell_type": "code",
      "metadata": {
        "id": "sH0C4fqfhiZl",
        "outputId": "f940df91-1ec1-4fe3-b3b0-9d0a5f450ea9"
      },
      "source": [
        "trainfinal.columns,testfinal.columns,len(trainfinal.columns),len(testfinal.columns)"
      ],
      "execution_count": null,
      "outputs": [
        {
          "output_type": "execute_result",
          "data": {
            "text/plain": [
              "(Index(['building_id', 'district_id_x', 'vdcmun_id_x', 'ward_id_x',\n",
              "        'legal_ownership_status', 'count_families', 'has_secondary_use',\n",
              "        'has_secondary_use_agriculture', 'has_secondary_use_hotel',\n",
              "        'has_secondary_use_rental', 'has_secondary_use_institution',\n",
              "        'has_secondary_use_school', 'has_secondary_use_industry',\n",
              "        'has_secondary_use_health_post', 'has_secondary_use_gov_office',\n",
              "        'has_secondary_use_use_police', 'has_secondary_use_other',\n",
              "        'district_id_y', 'vdcmun_id_y', 'ward_id_y', 'count_floors_pre_eq',\n",
              "        'count_floors_post_eq', 'age_building', 'plinth_area_sq_ft',\n",
              "        'height_ft_pre_eq', 'height_ft_post_eq', 'land_surface_condition',\n",
              "        'foundation_type', 'roof_type', 'ground_floor_type', 'other_floor_type',\n",
              "        'position', 'plan_configuration', 'has_superstructure_adobe_mud',\n",
              "        'has_superstructure_mud_mortar_stone', 'has_superstructure_stone_flag',\n",
              "        'has_superstructure_cement_mortar_stone',\n",
              "        'has_superstructure_mud_mortar_brick',\n",
              "        'has_superstructure_cement_mortar_brick', 'has_superstructure_timber',\n",
              "        'has_superstructure_bamboo', 'has_superstructure_rc_non_engineered',\n",
              "        'has_superstructure_rc_engineered', 'has_superstructure_other',\n",
              "        'condition_post_eq', 'area_assesed', 'damage_grade', 'district_id',\n",
              "        'has_geotechnical_risk', 'has_geotechnical_risk_fault_crack',\n",
              "        'has_geotechnical_risk_flood', 'has_geotechnical_risk_land_settlement',\n",
              "        'has_geotechnical_risk_landslide', 'has_geotechnical_risk_liquefaction',\n",
              "        'has_geotechnical_risk_other', 'has_geotechnical_risk_rock_fall',\n",
              "        'has_repair_started', 'vdcmun_id'],\n",
              "       dtype='object'),\n",
              " Index(['building_id', 'district_id_x', 'vdcmun_id_x', 'ward_id_x',\n",
              "        'legal_ownership_status', 'count_families', 'has_secondary_use',\n",
              "        'has_secondary_use_agriculture', 'has_secondary_use_hotel',\n",
              "        'has_secondary_use_rental', 'has_secondary_use_institution',\n",
              "        'has_secondary_use_school', 'has_secondary_use_industry',\n",
              "        'has_secondary_use_health_post', 'has_secondary_use_gov_office',\n",
              "        'has_secondary_use_use_police', 'has_secondary_use_other',\n",
              "        'district_id_y', 'vdcmun_id_y', 'ward_id_y', 'count_floors_pre_eq',\n",
              "        'count_floors_post_eq', 'age_building', 'plinth_area_sq_ft',\n",
              "        'height_ft_pre_eq', 'height_ft_post_eq', 'land_surface_condition',\n",
              "        'foundation_type', 'roof_type', 'ground_floor_type', 'other_floor_type',\n",
              "        'position', 'plan_configuration', 'has_superstructure_adobe_mud',\n",
              "        'has_superstructure_mud_mortar_stone', 'has_superstructure_stone_flag',\n",
              "        'has_superstructure_cement_mortar_stone',\n",
              "        'has_superstructure_mud_mortar_brick',\n",
              "        'has_superstructure_cement_mortar_brick', 'has_superstructure_timber',\n",
              "        'has_superstructure_bamboo', 'has_superstructure_rc_non_engineered',\n",
              "        'has_superstructure_rc_engineered', 'has_superstructure_other',\n",
              "        'condition_post_eq', 'area_assesed', 'district_id',\n",
              "        'has_geotechnical_risk', 'has_geotechnical_risk_fault_crack',\n",
              "        'has_geotechnical_risk_flood', 'has_geotechnical_risk_land_settlement',\n",
              "        'has_geotechnical_risk_landslide', 'has_geotechnical_risk_liquefaction',\n",
              "        'has_geotechnical_risk_other', 'has_geotechnical_risk_rock_fall',\n",
              "        'has_repair_started', 'vdcmun_id'],\n",
              "       dtype='object'),\n",
              " 58,\n",
              " 57)"
            ]
          },
          "metadata": {
            "tags": []
          },
          "execution_count": 14
        }
      ]
    },
    {
      "cell_type": "code",
      "metadata": {
        "id": "mgeehu58hiZl",
        "outputId": "ed2f7add-e083-4e67-fcb2-d724d9e82cf9"
      },
      "source": [
        "trainfinal.info()"
      ],
      "execution_count": null,
      "outputs": [
        {
          "output_type": "stream",
          "text": [
            "<class 'pandas.core.frame.DataFrame'>\n",
            "Int64Index: 631761 entries, 0 to 631760\n",
            "Data columns (total 58 columns):\n",
            " #   Column                                  Non-Null Count   Dtype  \n",
            "---  ------                                  --------------   -----  \n",
            " 0   building_id                             631761 non-null  object \n",
            " 1   district_id_x                           631761 non-null  int64  \n",
            " 2   vdcmun_id_x                             631761 non-null  int64  \n",
            " 3   ward_id_x                               631761 non-null  int64  \n",
            " 4   legal_ownership_status                  631761 non-null  object \n",
            " 5   count_families                          631760 non-null  float64\n",
            " 6   has_secondary_use                       631761 non-null  float64\n",
            " 7   has_secondary_use_agriculture           631761 non-null  int64  \n",
            " 8   has_secondary_use_hotel                 631761 non-null  int64  \n",
            " 9   has_secondary_use_rental                631761 non-null  int64  \n",
            " 10  has_secondary_use_institution           631761 non-null  int64  \n",
            " 11  has_secondary_use_school                631761 non-null  int64  \n",
            " 12  has_secondary_use_industry              631761 non-null  int64  \n",
            " 13  has_secondary_use_health_post           631761 non-null  int64  \n",
            " 14  has_secondary_use_gov_office            631761 non-null  int64  \n",
            " 15  has_secondary_use_use_police            631761 non-null  int64  \n",
            " 16  has_secondary_use_other                 631761 non-null  int64  \n",
            " 17  district_id_y                           631761 non-null  int64  \n",
            " 18  vdcmun_id_y                             631761 non-null  int64  \n",
            " 19  ward_id_y                               631761 non-null  int64  \n",
            " 20  count_floors_pre_eq                     631761 non-null  int64  \n",
            " 21  count_floors_post_eq                    631761 non-null  int64  \n",
            " 22  age_building                            631761 non-null  int64  \n",
            " 23  plinth_area_sq_ft                       631761 non-null  int64  \n",
            " 24  height_ft_pre_eq                        631761 non-null  int64  \n",
            " 25  height_ft_post_eq                       631761 non-null  int64  \n",
            " 26  land_surface_condition                  631761 non-null  object \n",
            " 27  foundation_type                         631761 non-null  object \n",
            " 28  roof_type                               631761 non-null  object \n",
            " 29  ground_floor_type                       631761 non-null  object \n",
            " 30  other_floor_type                        631761 non-null  object \n",
            " 31  position                                631761 non-null  object \n",
            " 32  plan_configuration                      631761 non-null  object \n",
            " 33  has_superstructure_adobe_mud            631761 non-null  int64  \n",
            " 34  has_superstructure_mud_mortar_stone     631761 non-null  int64  \n",
            " 35  has_superstructure_stone_flag           631761 non-null  int64  \n",
            " 36  has_superstructure_cement_mortar_stone  631761 non-null  int64  \n",
            " 37  has_superstructure_mud_mortar_brick     631761 non-null  int64  \n",
            " 38  has_superstructure_cement_mortar_brick  631761 non-null  int64  \n",
            " 39  has_superstructure_timber               631761 non-null  int64  \n",
            " 40  has_superstructure_bamboo               631761 non-null  int64  \n",
            " 41  has_superstructure_rc_non_engineered    631761 non-null  int64  \n",
            " 42  has_superstructure_rc_engineered        631761 non-null  int64  \n",
            " 43  has_superstructure_other                631761 non-null  int64  \n",
            " 44  condition_post_eq                       631761 non-null  object \n",
            " 45  area_assesed                            631761 non-null  object \n",
            " 46  damage_grade                            631761 non-null  object \n",
            " 47  district_id                             631761 non-null  int64  \n",
            " 48  has_geotechnical_risk                   631761 non-null  float64\n",
            " 49  has_geotechnical_risk_fault_crack       631761 non-null  int64  \n",
            " 50  has_geotechnical_risk_flood             631761 non-null  int64  \n",
            " 51  has_geotechnical_risk_land_settlement   631761 non-null  int64  \n",
            " 52  has_geotechnical_risk_landslide         631761 non-null  int64  \n",
            " 53  has_geotechnical_risk_liquefaction      631761 non-null  int64  \n",
            " 54  has_geotechnical_risk_other             631761 non-null  int64  \n",
            " 55  has_geotechnical_risk_rock_fall         631761 non-null  int64  \n",
            " 56  has_repair_started                      598344 non-null  float64\n",
            " 57  vdcmun_id                               631761 non-null  int64  \n",
            "dtypes: float64(4), int64(42), object(12)\n",
            "memory usage: 284.4+ MB\n"
          ],
          "name": "stdout"
        }
      ]
    },
    {
      "cell_type": "code",
      "metadata": {
        "id": "UA7xf6PzhiZm",
        "outputId": "63327b95-3594-4b91-a8e3-0d6f59e1828b"
      },
      "source": [
        "testfinal.info()"
      ],
      "execution_count": null,
      "outputs": [
        {
          "output_type": "stream",
          "text": [
            "<class 'pandas.core.frame.DataFrame'>\n",
            "Int64Index: 421175 entries, 0 to 421174\n",
            "Data columns (total 57 columns):\n",
            " #   Column                                  Non-Null Count   Dtype  \n",
            "---  ------                                  --------------   -----  \n",
            " 0   building_id                             421175 non-null  object \n",
            " 1   district_id_x                           421175 non-null  int64  \n",
            " 2   vdcmun_id_x                             421175 non-null  int64  \n",
            " 3   ward_id_x                               421175 non-null  int64  \n",
            " 4   legal_ownership_status                  421175 non-null  object \n",
            " 5   count_families                          421175 non-null  float64\n",
            " 6   has_secondary_use                       421175 non-null  float64\n",
            " 7   has_secondary_use_agriculture           421175 non-null  int64  \n",
            " 8   has_secondary_use_hotel                 421175 non-null  int64  \n",
            " 9   has_secondary_use_rental                421175 non-null  int64  \n",
            " 10  has_secondary_use_institution           421175 non-null  int64  \n",
            " 11  has_secondary_use_school                421175 non-null  int64  \n",
            " 12  has_secondary_use_industry              421175 non-null  int64  \n",
            " 13  has_secondary_use_health_post           421175 non-null  int64  \n",
            " 14  has_secondary_use_gov_office            421175 non-null  int64  \n",
            " 15  has_secondary_use_use_police            421175 non-null  int64  \n",
            " 16  has_secondary_use_other                 421175 non-null  int64  \n",
            " 17  district_id_y                           421175 non-null  int64  \n",
            " 18  vdcmun_id_y                             421175 non-null  int64  \n",
            " 19  ward_id_y                               421175 non-null  int64  \n",
            " 20  count_floors_pre_eq                     421175 non-null  int64  \n",
            " 21  count_floors_post_eq                    421175 non-null  int64  \n",
            " 22  age_building                            421175 non-null  int64  \n",
            " 23  plinth_area_sq_ft                       421175 non-null  int64  \n",
            " 24  height_ft_pre_eq                        421175 non-null  int64  \n",
            " 25  height_ft_post_eq                       421175 non-null  int64  \n",
            " 26  land_surface_condition                  421175 non-null  object \n",
            " 27  foundation_type                         421175 non-null  object \n",
            " 28  roof_type                               421175 non-null  object \n",
            " 29  ground_floor_type                       421175 non-null  object \n",
            " 30  other_floor_type                        421175 non-null  object \n",
            " 31  position                                421175 non-null  object \n",
            " 32  plan_configuration                      421175 non-null  object \n",
            " 33  has_superstructure_adobe_mud            421175 non-null  int64  \n",
            " 34  has_superstructure_mud_mortar_stone     421175 non-null  int64  \n",
            " 35  has_superstructure_stone_flag           421175 non-null  int64  \n",
            " 36  has_superstructure_cement_mortar_stone  421175 non-null  int64  \n",
            " 37  has_superstructure_mud_mortar_brick     421175 non-null  int64  \n",
            " 38  has_superstructure_cement_mortar_brick  421175 non-null  int64  \n",
            " 39  has_superstructure_timber               421175 non-null  int64  \n",
            " 40  has_superstructure_bamboo               421175 non-null  int64  \n",
            " 41  has_superstructure_rc_non_engineered    421175 non-null  int64  \n",
            " 42  has_superstructure_rc_engineered        421175 non-null  int64  \n",
            " 43  has_superstructure_other                421175 non-null  int64  \n",
            " 44  condition_post_eq                       421175 non-null  object \n",
            " 45  area_assesed                            421175 non-null  object \n",
            " 46  district_id                             421175 non-null  int64  \n",
            " 47  has_geotechnical_risk                   421175 non-null  float64\n",
            " 48  has_geotechnical_risk_fault_crack       421175 non-null  int64  \n",
            " 49  has_geotechnical_risk_flood             421175 non-null  int64  \n",
            " 50  has_geotechnical_risk_land_settlement   421175 non-null  int64  \n",
            " 51  has_geotechnical_risk_landslide         421175 non-null  int64  \n",
            " 52  has_geotechnical_risk_liquefaction      421175 non-null  int64  \n",
            " 53  has_geotechnical_risk_other             421175 non-null  int64  \n",
            " 54  has_geotechnical_risk_rock_fall         421175 non-null  int64  \n",
            " 55  has_repair_started                      399253 non-null  float64\n",
            " 56  vdcmun_id                               421175 non-null  int64  \n",
            "dtypes: float64(4), int64(42), object(11)\n",
            "memory usage: 186.4+ MB\n"
          ],
          "name": "stdout"
        }
      ]
    },
    {
      "cell_type": "code",
      "metadata": {
        "id": "QmTtCmo8hiZn",
        "outputId": "070ec997-0bc6-4b07-d33b-3f74d8a313fa"
      },
      "source": [
        "trainfinal.isnull().sum()"
      ],
      "execution_count": null,
      "outputs": [
        {
          "output_type": "execute_result",
          "data": {
            "text/plain": [
              "building_id                                   0\n",
              "district_id_x                                 0\n",
              "vdcmun_id_x                                   0\n",
              "ward_id_x                                     0\n",
              "legal_ownership_status                        0\n",
              "count_families                                1\n",
              "has_secondary_use                             0\n",
              "has_secondary_use_agriculture                 0\n",
              "has_secondary_use_hotel                       0\n",
              "has_secondary_use_rental                      0\n",
              "has_secondary_use_institution                 0\n",
              "has_secondary_use_school                      0\n",
              "has_secondary_use_industry                    0\n",
              "has_secondary_use_health_post                 0\n",
              "has_secondary_use_gov_office                  0\n",
              "has_secondary_use_use_police                  0\n",
              "has_secondary_use_other                       0\n",
              "district_id_y                                 0\n",
              "vdcmun_id_y                                   0\n",
              "ward_id_y                                     0\n",
              "count_floors_pre_eq                           0\n",
              "count_floors_post_eq                          0\n",
              "age_building                                  0\n",
              "plinth_area_sq_ft                             0\n",
              "height_ft_pre_eq                              0\n",
              "height_ft_post_eq                             0\n",
              "land_surface_condition                        0\n",
              "foundation_type                               0\n",
              "roof_type                                     0\n",
              "ground_floor_type                             0\n",
              "other_floor_type                              0\n",
              "position                                      0\n",
              "plan_configuration                            0\n",
              "has_superstructure_adobe_mud                  0\n",
              "has_superstructure_mud_mortar_stone           0\n",
              "has_superstructure_stone_flag                 0\n",
              "has_superstructure_cement_mortar_stone        0\n",
              "has_superstructure_mud_mortar_brick           0\n",
              "has_superstructure_cement_mortar_brick        0\n",
              "has_superstructure_timber                     0\n",
              "has_superstructure_bamboo                     0\n",
              "has_superstructure_rc_non_engineered          0\n",
              "has_superstructure_rc_engineered              0\n",
              "has_superstructure_other                      0\n",
              "condition_post_eq                             0\n",
              "area_assesed                                  0\n",
              "damage_grade                                  0\n",
              "district_id                                   0\n",
              "has_geotechnical_risk                         0\n",
              "has_geotechnical_risk_fault_crack             0\n",
              "has_geotechnical_risk_flood                   0\n",
              "has_geotechnical_risk_land_settlement         0\n",
              "has_geotechnical_risk_landslide               0\n",
              "has_geotechnical_risk_liquefaction            0\n",
              "has_geotechnical_risk_other                   0\n",
              "has_geotechnical_risk_rock_fall               0\n",
              "has_repair_started                        33417\n",
              "vdcmun_id                                     0\n",
              "dtype: int64"
            ]
          },
          "metadata": {
            "tags": []
          },
          "execution_count": 18
        }
      ]
    },
    {
      "cell_type": "code",
      "metadata": {
        "id": "jmXVR66OhiZn",
        "outputId": "beedb6c7-9191-4e1a-f90e-1e609bd29a35"
      },
      "source": [
        "testfinal.isnull().sum()"
      ],
      "execution_count": null,
      "outputs": [
        {
          "output_type": "execute_result",
          "data": {
            "text/plain": [
              "building_id                                   0\n",
              "district_id_x                                 0\n",
              "vdcmun_id_x                                   0\n",
              "ward_id_x                                     0\n",
              "legal_ownership_status                        0\n",
              "count_families                                0\n",
              "has_secondary_use                             0\n",
              "has_secondary_use_agriculture                 0\n",
              "has_secondary_use_hotel                       0\n",
              "has_secondary_use_rental                      0\n",
              "has_secondary_use_institution                 0\n",
              "has_secondary_use_school                      0\n",
              "has_secondary_use_industry                    0\n",
              "has_secondary_use_health_post                 0\n",
              "has_secondary_use_gov_office                  0\n",
              "has_secondary_use_use_police                  0\n",
              "has_secondary_use_other                       0\n",
              "district_id_y                                 0\n",
              "vdcmun_id_y                                   0\n",
              "ward_id_y                                     0\n",
              "count_floors_pre_eq                           0\n",
              "count_floors_post_eq                          0\n",
              "age_building                                  0\n",
              "plinth_area_sq_ft                             0\n",
              "height_ft_pre_eq                              0\n",
              "height_ft_post_eq                             0\n",
              "land_surface_condition                        0\n",
              "foundation_type                               0\n",
              "roof_type                                     0\n",
              "ground_floor_type                             0\n",
              "other_floor_type                              0\n",
              "position                                      0\n",
              "plan_configuration                            0\n",
              "has_superstructure_adobe_mud                  0\n",
              "has_superstructure_mud_mortar_stone           0\n",
              "has_superstructure_stone_flag                 0\n",
              "has_superstructure_cement_mortar_stone        0\n",
              "has_superstructure_mud_mortar_brick           0\n",
              "has_superstructure_cement_mortar_brick        0\n",
              "has_superstructure_timber                     0\n",
              "has_superstructure_bamboo                     0\n",
              "has_superstructure_rc_non_engineered          0\n",
              "has_superstructure_rc_engineered              0\n",
              "has_superstructure_other                      0\n",
              "condition_post_eq                             0\n",
              "area_assesed                                  0\n",
              "district_id                                   0\n",
              "has_geotechnical_risk                         0\n",
              "has_geotechnical_risk_fault_crack             0\n",
              "has_geotechnical_risk_flood                   0\n",
              "has_geotechnical_risk_land_settlement         0\n",
              "has_geotechnical_risk_landslide               0\n",
              "has_geotechnical_risk_liquefaction            0\n",
              "has_geotechnical_risk_other                   0\n",
              "has_geotechnical_risk_rock_fall               0\n",
              "has_repair_started                        21922\n",
              "vdcmun_id                                     0\n",
              "dtype: int64"
            ]
          },
          "metadata": {
            "tags": []
          },
          "execution_count": 20
        }
      ]
    },
    {
      "cell_type": "code",
      "metadata": {
        "id": "5wb6biS1hiZn"
      },
      "source": [
        "trainfinal.drop('has_repair_started',axis=1,inplace=True)\n",
        "testfinal.drop('has_repair_started',axis=1,inplace=True)"
      ],
      "execution_count": null,
      "outputs": []
    },
    {
      "cell_type": "code",
      "metadata": {
        "id": "wJtozs53hiZn"
      },
      "source": [
        "trainfinal.drop((['vdcmun_id_y','district_id_y','ward_id_y','vdcmun_id','district_id']) , axis = 1,inplace=True)\n",
        "testfinal.drop((['vdcmun_id_y','district_id_y','ward_id_y','vdcmun_id','district_id']) , axis = 1,inplace=True)"
      ],
      "execution_count": null,
      "outputs": []
    },
    {
      "cell_type": "code",
      "metadata": {
        "id": "N03LHWR2hiZo"
      },
      "source": [
        "features = list(trainfinal.columns)"
      ],
      "execution_count": null,
      "outputs": []
    },
    {
      "cell_type": "code",
      "metadata": {
        "id": "NExYjE-ehiZo",
        "outputId": "8e5049ec-487d-43eb-8c4b-bb7bfc53dd34"
      },
      "source": [
        "len(features)"
      ],
      "execution_count": null,
      "outputs": [
        {
          "output_type": "execute_result",
          "data": {
            "text/plain": [
              "52"
            ]
          },
          "metadata": {
            "tags": []
          },
          "execution_count": 26
        }
      ]
    },
    {
      "cell_type": "code",
      "metadata": {
        "id": "_xn70YFAhiZo",
        "outputId": "bce82730-c33a-4a02-8307-9bec3c64f4ac"
      },
      "source": [
        "target = trainfinal['damage_grade'].value_counts()\n",
        "print(target)\n",
        "target = target.to_frame()\n",
        "target.columns = ['Count']\n",
        "target.index.names = ['Damage_Grade']\n",
        "target['Damage_Grade'] = target.index \n",
        "\n",
        "#Plotting the Target variable\n",
        "sns.set(style = 'whitegrid', color_codes = True)\n",
        "sns.barplot(x = 'Damage_Grade', y = 'Count', data = target)\n",
        "plt.xticks(rotation = 90)"
      ],
      "execution_count": null,
      "outputs": [
        {
          "output_type": "stream",
          "text": [
            "Grade 5    210825\n",
            "Grade 4    152244\n",
            "Grade 3    122288\n",
            "Grade 2     85084\n",
            "Grade 1     61320\n",
            "Name: damage_grade, dtype: int64\n"
          ],
          "name": "stdout"
        },
        {
          "output_type": "execute_result",
          "data": {
            "text/plain": [
              "(array([0, 1, 2, 3, 4]),\n",
              " [Text(0, 0, 'Grade 5'),\n",
              "  Text(1, 0, 'Grade 4'),\n",
              "  Text(2, 0, 'Grade 3'),\n",
              "  Text(3, 0, 'Grade 2'),\n",
              "  Text(4, 0, 'Grade 1')])"
            ]
          },
          "metadata": {
            "tags": []
          },
          "execution_count": 31
        },
        {
          "output_type": "display_data",
          "data": {
            "image/png": "[encoded data removed]",
            "text/plain": [
              "<Figure size 432x288 with 1 Axes>"
            ]
          },
          "metadata": {
            "tags": []
          }
        }
      ]
    },
    {
      "cell_type": "code",
      "metadata": {
        "id": "9Yzi_SYDhiZp",
        "outputId": "e61d602b-8550-41e6-d154-2993eeb2f9a2"
      },
      "source": [
        "trainfinal['legal_ownership_status'].value_counts().plot.bar()"
      ],
      "execution_count": null,
      "outputs": [
        {
          "output_type": "execute_result",
          "data": {
            "text/plain": [
              "<AxesSubplot:>"
            ]
          },
          "metadata": {
            "tags": []
          },
          "execution_count": 32
        },
        {
          "output_type": "display_data",
          "data": {
            "image/png": "[encoded data removed]",
            "text/plain": [
              "<Figure size 432x288 with 1 Axes>"
            ]
          },
          "metadata": {
            "tags": []
          }
        }
      ]
    },
    {
      "cell_type": "code",
      "metadata": {
        "id": "VuzSP2kHhiZp",
        "outputId": "83b4f853-5336-4302-e538-50b11ccc6189"
      },
      "source": [
        "sns.distplot(trainfinal['age_building'])"
      ],
      "execution_count": null,
      "outputs": [
        {
          "output_type": "stream",
          "text": [
            "C:\\Users\\kondaveeti\\anaconda3\\envs\\tcl\\lib\\site-packages\\seaborn\\distributions.py:2551: FutureWarning: `distplot` is a deprecated function and will be removed in a future version. Please adapt your code to use either `displot` (a figure-level function with similar flexibility) or `histplot` (an axes-level function for histograms).\n",
            "  warnings.warn(msg, FutureWarning)\n"
          ],
          "name": "stderr"
        },
        {
          "output_type": "execute_result",
          "data": {
            "text/plain": [
              "<AxesSubplot:xlabel='age_building', ylabel='Density'>"
            ]
          },
          "metadata": {
            "tags": []
          },
          "execution_count": 33
        },
        {
          "output_type": "display_data",
          "data": {
            "image/png": "[encoded data removed]",
            "text/plain": [
              "<Figure size 432x288 with 1 Axes>"
            ]
          },
          "metadata": {
            "tags": []
          }
        }
      ]
    },
    {
      "cell_type": "code",
      "metadata": {
        "id": "irZ5pK75hiZp",
        "outputId": "03ffa6fd-8842-4ff8-c495-18cccfa83038"
      },
      "source": [
        "print(trainfinal['condition_post_eq'].unique())\n",
        "trainfinal['condition_post_eq'].value_counts().plot.bar()"
      ],
      "execution_count": null,
      "outputs": [
        {
          "output_type": "stream",
          "text": [
            "['Damaged-Repaired and used' 'Damaged-Not used' 'Damaged-Rubble clear'\n",
            " 'Damaged-Rubble Clear-New building built' 'Damaged-Used in risk'\n",
            " 'Damaged-Rubble unclear' 'Not damaged' 'Covered by landslide']\n"
          ],
          "name": "stdout"
        },
        {
          "output_type": "execute_result",
          "data": {
            "text/plain": [
              "<AxesSubplot:>"
            ]
          },
          "metadata": {
            "tags": []
          },
          "execution_count": 35
        },
        {
          "output_type": "display_data",
          "data": {
            "image/png": "[encoded data removed]",
            "text/plain": [
              "<Figure size 432x288 with 1 Axes>"
            ]
          },
          "metadata": {
            "tags": []
          }
        }
      ]
    },
    {
      "cell_type": "code",
      "metadata": {
        "id": "pV-M7rEJhiZp",
        "outputId": "86662211-e40a-45a5-bb52-c1579feffa93"
      },
      "source": [
        "trainfinal['height_ft_pre_eq'].value_counts().plot.hist()"
      ],
      "execution_count": null,
      "outputs": [
        {
          "output_type": "execute_result",
          "data": {
            "text/plain": [
              "<AxesSubplot:ylabel='Frequency'>"
            ]
          },
          "metadata": {
            "tags": []
          },
          "execution_count": 36
        },
        {
          "output_type": "display_data",
          "data": {
            "image/png": "[encoded data removed]",
            "text/plain": [
              "<Figure size 432x288 with 1 Axes>"
            ]
          },
          "metadata": {
            "tags": []
          }
        }
      ]
    },
    {
      "cell_type": "code",
      "metadata": {
        "id": "O4wlnlXWhiZq",
        "outputId": "ed571883-9278-4510-aab9-2dd066803281"
      },
      "source": [
        "sns.set(font_scale=0.7)\n",
        "sns.countplot(trainfinal['area_assesed'])"
      ],
      "execution_count": null,
      "outputs": [
        {
          "output_type": "stream",
          "text": [
            "C:\\Users\\kondaveeti\\anaconda3\\envs\\tcl\\lib\\site-packages\\seaborn\\_decorators.py:43: FutureWarning: Pass the following variable as a keyword arg: x. From version 0.12, the only valid positional argument will be `data`, and passing other arguments without an explicit keyword will result in an error or misinterpretation.\n",
            "  FutureWarning\n"
          ],
          "name": "stderr"
        },
        {
          "output_type": "execute_result",
          "data": {
            "text/plain": [
              "<AxesSubplot:xlabel='area_assesed', ylabel='count'>"
            ]
          },
          "metadata": {
            "tags": []
          },
          "execution_count": 37
        },
        {
          "output_type": "display_data",
          "data": {
            "image/png": "[encoded data removed]",
            "text/plain": [
              "<Figure size 432x288 with 1 Axes>"
            ]
          },
          "metadata": {
            "tags": []
          }
        }
      ]
    },
    {
      "cell_type": "code",
      "metadata": {
        "id": "TX5AjuV1hiZr",
        "outputId": "59a73611-fd18-4fdd-efc8-a3504068a163"
      },
      "source": [
        "conversion = {'damage_grade' : {\"Grade 1\" : 1, \"Grade 2\" : 2, \"Grade 3\" : 3,\"Grade 4\" : 4,\"Grade 5\" : 5}}\n",
        "train_temp = pd.DataFrame()\n",
        "train_temp['damage_grade'] = trainfinal['damage_grade']\n",
        "\n",
        "train_temp.replace(conversion, inplace = True)\n",
        "print(train_temp['damage_grade'].head())\n",
        "\n",
        "trainfinal['damage_grade'] = train_temp['damage_grade']\n",
        "trainfinal['damage_grade'].head()"
      ],
      "execution_count": null,
      "outputs": [
        {
          "output_type": "stream",
          "text": [
            "0    2\n",
            "1    3\n",
            "2    3\n",
            "3    4\n",
            "4    3\n",
            "Name: damage_grade, dtype: int64\n"
          ],
          "name": "stdout"
        },
        {
          "output_type": "execute_result",
          "data": {
            "text/plain": [
              "0    2\n",
              "1    3\n",
              "2    3\n",
              "3    4\n",
              "4    3\n",
              "Name: damage_grade, dtype: int64"
            ]
          },
          "metadata": {
            "tags": []
          },
          "execution_count": 38
        }
      ]
    },
    {
      "cell_type": "code",
      "metadata": {
        "id": "OdMINFJlhiZr"
      },
      "source": [
        "cat = [c for c in trainfinal if trainfinal[c].dtypes == \"object\"]\n",
        "cat.remove('building_id')"
      ],
      "execution_count": null,
      "outputs": []
    },
    {
      "cell_type": "code",
      "metadata": {
        "id": "SW4pG5imhiZr"
      },
      "source": [
        "def ChiSquareTest(cat,res_train):\n",
        "  \n",
        "  for c in cat:\n",
        "    print(c)\n",
        "    tab = pd.crosstab(res_train['damage_grade'], res_train[c])\n",
        "    stat, p, dof, expected = chi2_contingency(tab)\n",
        "    print('dof=%d' % dof)\n",
        "    #print(expected)\n",
        "    # interpret test-statistic\n",
        "    prob = 0.95\n",
        "    critical = chi2.ppf(prob, dof)\n",
        "    print('probability=%.3f, critical=%.3f, stat=%.3f' % (prob, critical, stat))\n",
        "    if abs(stat) >= critical:\n",
        "      print('Dependent (reject H0)')\n",
        "    else:\n",
        "      print('Independent (fail to reject H0)')\n",
        "    # interpret p-value\n",
        "    alpha = 1.0 - prob\n",
        "    print('significance=%.3f, p=%.3f' % (alpha, p))\n",
        "    if p <= alpha:\n",
        "      print('Dependent (reject H0)')\n",
        "    else:\n",
        "      print('Independent (fail to reject H0)')\n",
        "     \n",
        "    print(\" \")"
      ],
      "execution_count": null,
      "outputs": []
    },
    {
      "cell_type": "code",
      "metadata": {
        "id": "crK02vAchiZs",
        "outputId": "a117d82a-5db8-42f7-dee9-d9f9234e0411"
      },
      "source": [
        "ChiSquareTest(cat,trainfinal)"
      ],
      "execution_count": null,
      "outputs": [
        {
          "output_type": "stream",
          "text": [
            "legal_ownership_status\n",
            "dof=12\n",
            "probability=0.950, critical=21.026, stat=8113.932\n",
            "Dependent (reject H0)\n",
            "significance=0.050, p=0.000\n",
            "Dependent (reject H0)\n",
            " \n",
            "land_surface_condition\n",
            "dof=8\n",
            "probability=0.950, critical=15.507, stat=1408.392\n",
            "Dependent (reject H0)\n",
            "significance=0.050, p=0.000\n",
            "Dependent (reject H0)\n",
            " \n",
            "foundation_type\n",
            "dof=16\n",
            "probability=0.950, critical=26.296, stat=138103.743\n",
            "Dependent (reject H0)\n",
            "significance=0.050, p=0.000\n",
            "Dependent (reject H0)\n",
            " \n",
            "roof_type\n",
            "dof=8\n",
            "probability=0.950, critical=15.507, stat=85099.545\n",
            "Dependent (reject H0)\n",
            "significance=0.050, p=0.000\n",
            "Dependent (reject H0)\n",
            " \n",
            "ground_floor_type\n",
            "dof=16\n",
            "probability=0.950, critical=26.296, stat=107177.045\n",
            "Dependent (reject H0)\n",
            "significance=0.050, p=0.000\n",
            "Dependent (reject H0)\n",
            " \n",
            "other_floor_type\n",
            "dof=12\n",
            "probability=0.950, critical=21.026, stat=93978.074\n",
            "Dependent (reject H0)\n",
            "significance=0.050, p=0.000\n",
            "Dependent (reject H0)\n",
            " \n",
            "position\n",
            "dof=12\n",
            "probability=0.950, critical=21.026, stat=5026.896\n",
            "Dependent (reject H0)\n",
            "significance=0.050, p=0.000\n",
            "Dependent (reject H0)\n",
            " \n",
            "plan_configuration\n",
            "dof=36\n",
            "probability=0.950, critical=50.998, stat=4672.139\n",
            "Dependent (reject H0)\n",
            "significance=0.050, p=0.000\n",
            "Dependent (reject H0)\n",
            " \n",
            "condition_post_eq\n",
            "dof=28\n",
            "probability=0.950, critical=41.337, stat=1112041.847\n",
            "Dependent (reject H0)\n",
            "significance=0.050, p=0.000\n",
            "Dependent (reject H0)\n",
            " \n",
            "area_assesed\n",
            "dof=16\n",
            "probability=0.950, critical=26.296, stat=429576.136\n",
            "Dependent (reject H0)\n",
            "significance=0.050, p=0.000\n",
            "Dependent (reject H0)\n",
            " \n"
          ],
          "name": "stdout"
        }
      ]
    },
    {
      "cell_type": "code",
      "metadata": {
        "id": "PerHaGO3hiZs",
        "outputId": "1fb771ff-16de-4dc2-97a8-9b97b7cc452e"
      },
      "source": [
        "cat_binary = [c for c in trainfinal if len(trainfinal[c].unique()) == 2]\n",
        "cat_binary"
      ],
      "execution_count": null,
      "outputs": [
        {
          "output_type": "execute_result",
          "data": {
            "text/plain": [
              "['has_secondary_use',\n",
              " 'has_secondary_use_agriculture',\n",
              " 'has_secondary_use_hotel',\n",
              " 'has_secondary_use_rental',\n",
              " 'has_secondary_use_institution',\n",
              " 'has_secondary_use_school',\n",
              " 'has_secondary_use_industry',\n",
              " 'has_secondary_use_health_post',\n",
              " 'has_secondary_use_gov_office',\n",
              " 'has_secondary_use_use_police',\n",
              " 'has_secondary_use_other',\n",
              " 'has_superstructure_adobe_mud',\n",
              " 'has_superstructure_mud_mortar_stone',\n",
              " 'has_superstructure_stone_flag',\n",
              " 'has_superstructure_cement_mortar_stone',\n",
              " 'has_superstructure_mud_mortar_brick',\n",
              " 'has_superstructure_cement_mortar_brick',\n",
              " 'has_superstructure_timber',\n",
              " 'has_superstructure_bamboo',\n",
              " 'has_superstructure_rc_non_engineered',\n",
              " 'has_superstructure_rc_engineered',\n",
              " 'has_superstructure_other',\n",
              " 'has_geotechnical_risk',\n",
              " 'has_geotechnical_risk_fault_crack',\n",
              " 'has_geotechnical_risk_flood',\n",
              " 'has_geotechnical_risk_land_settlement',\n",
              " 'has_geotechnical_risk_landslide',\n",
              " 'has_geotechnical_risk_liquefaction',\n",
              " 'has_geotechnical_risk_other',\n",
              " 'has_geotechnical_risk_rock_fall']"
            ]
          },
          "metadata": {
            "tags": []
          },
          "execution_count": 46
        }
      ]
    },
    {
      "cell_type": "code",
      "metadata": {
        "id": "oenh2r9mhiZs"
      },
      "source": [
        "\n",
        "def cramers_v(x, y):\n",
        "  correlation_coeff = []\n",
        "  for c in cat_binary:\n",
        "    confusion_matrix = pd.crosstab(trainfinal[c],y)\n",
        "    chi2 = ss.chi2_contingency(confusion_matrix)[0]\n",
        "    n = confusion_matrix.sum().sum()\n",
        "    phi2 = chi2/n\n",
        "    r,k = confusion_matrix.shape\n",
        "    phi2corr = max(0, phi2-((k-1)*(r-1))/(n-1))\n",
        "    rcorr = r-((r-1)**2)/(n-1)\n",
        "    kcorr = k-((k-1)**2)/(n-1)\n",
        "    \n",
        "    correlation_coeff.append([c,np.sqrt(phi2corr/min((kcorr-1),(rcorr-1)))])\n",
        "    \n",
        "  return correlation_coeff"
      ],
      "execution_count": null,
      "outputs": []
    },
    {
      "cell_type": "code",
      "metadata": {
        "id": "LyM-6qL1hiZs",
        "outputId": "a3492ceb-f329-4aa6-e345-43e7e9fdec06"
      },
      "source": [
        "cramers_v(cat_binary, trainfinal['damage_grade'])"
      ],
      "execution_count": null,
      "outputs": [
        {
          "output_type": "execute_result",
          "data": {
            "text/plain": [
              "[['has_secondary_use', 0.08441248217165927],\n",
              " ['has_secondary_use_agriculture', 0.05948222661881513],\n",
              " ['has_secondary_use_hotel', 0.11931727185148487],\n",
              " ['has_secondary_use_rental', 0.10798851155159755],\n",
              " ['has_secondary_use_institution', 0.04000696439985445],\n",
              " ['has_secondary_use_school', 0.02115838376096302],\n",
              " ['has_secondary_use_industry', 0.012146442641532596],\n",
              " ['has_secondary_use_health_post', 0.009057079201118534],\n",
              " ['has_secondary_use_gov_office', 0.010428605108001273],\n",
              " ['has_secondary_use_use_police', 0.001672082018154515],\n",
              " ['has_secondary_use_other', 0.024000617699672995],\n",
              " ['has_superstructure_adobe_mud', 0.10906485273848247],\n",
              " ['has_superstructure_mud_mortar_stone', 0.3516007808920147],\n",
              " ['has_superstructure_stone_flag', 0.06369988742717195],\n",
              " ['has_superstructure_cement_mortar_stone', 0.07605311792908845],\n",
              " ['has_superstructure_mud_mortar_brick', 0.09329851436407582],\n",
              " ['has_superstructure_cement_mortar_brick', 0.31581765697361813],\n",
              " ['has_superstructure_timber', 0.08212323869868045],\n",
              " ['has_superstructure_bamboo', 0.07777505487920311],\n",
              " ['has_superstructure_rc_non_engineered', 0.21294726021176905],\n",
              " ['has_superstructure_rc_engineered', 0.24306162571376244],\n",
              " ['has_superstructure_other', 0.035730980209099664],\n",
              " ['has_geotechnical_risk', 0.08894886012774808],\n",
              " ['has_geotechnical_risk_fault_crack', 0.10073006730766738],\n",
              " ['has_geotechnical_risk_flood', 0.03175636548209928],\n",
              " ['has_geotechnical_risk_land_settlement', 0.05789496011707349],\n",
              " ['has_geotechnical_risk_landslide', 0.06986946541177956],\n",
              " ['has_geotechnical_risk_liquefaction', 0.020957175572012158],\n",
              " ['has_geotechnical_risk_other', 0.007301911809520293],\n",
              " ['has_geotechnical_risk_rock_fall', 0.06481739249408013]]"
            ]
          },
          "metadata": {
            "tags": []
          },
          "execution_count": 54
        }
      ]
    },
    {
      "cell_type": "code",
      "metadata": {
        "id": "SuuJeTxFhiZt",
        "outputId": "8d754180-7974-4d2c-a4fc-392470107a27"
      },
      "source": [
        "ChiSquareTest(cat_binary,trainfinal)"
      ],
      "execution_count": null,
      "outputs": [
        {
          "output_type": "stream",
          "text": [
            "has_secondary_use\n",
            "dof=4\n",
            "probability=0.950, critical=9.488, stat=4505.585\n",
            "Dependent (reject H0)\n",
            "significance=0.050, p=0.000\n",
            "Dependent (reject H0)\n",
            " \n",
            "has_secondary_use_agriculture\n",
            "dof=4\n",
            "probability=0.950, critical=9.488, stat=2239.252\n",
            "Dependent (reject H0)\n",
            "significance=0.050, p=0.000\n",
            "Dependent (reject H0)\n",
            " \n",
            "has_secondary_use_hotel\n",
            "dof=4\n",
            "probability=0.950, critical=9.488, stat=8998.122\n",
            "Dependent (reject H0)\n",
            "significance=0.050, p=0.000\n",
            "Dependent (reject H0)\n",
            " \n",
            "has_secondary_use_rental\n",
            "dof=4\n",
            "probability=0.950, critical=9.488, stat=7371.281\n",
            "Dependent (reject H0)\n",
            "significance=0.050, p=0.000\n",
            "Dependent (reject H0)\n",
            " \n",
            "has_secondary_use_institution\n",
            "dof=4\n",
            "probability=0.950, critical=9.488, stat=1015.168\n",
            "Dependent (reject H0)\n",
            "significance=0.050, p=0.000\n",
            "Dependent (reject H0)\n",
            " \n",
            "has_secondary_use_school\n",
            "dof=4\n",
            "probability=0.950, critical=9.488, stat=286.825\n",
            "Dependent (reject H0)\n",
            "significance=0.050, p=0.000\n",
            "Dependent (reject H0)\n",
            " \n",
            "has_secondary_use_industry\n",
            "dof=4\n",
            "probability=0.950, critical=9.488, stat=97.207\n",
            "Dependent (reject H0)\n",
            "significance=0.050, p=0.000\n",
            "Dependent (reject H0)\n",
            " \n",
            "has_secondary_use_health_post\n",
            "dof=4\n",
            "probability=0.950, critical=9.488, stat=55.824\n",
            "Dependent (reject H0)\n",
            "significance=0.050, p=0.000\n",
            "Dependent (reject H0)\n",
            " \n",
            "has_secondary_use_gov_office\n",
            "dof=4\n",
            "probability=0.950, critical=9.488, stat=72.708\n",
            "Dependent (reject H0)\n",
            "significance=0.050, p=0.000\n",
            "Dependent (reject H0)\n",
            " \n",
            "has_secondary_use_use_police\n",
            "dof=4\n",
            "probability=0.950, critical=9.488, stat=5.766\n",
            "Independent (fail to reject H0)\n",
            "significance=0.050, p=0.217\n",
            "Independent (fail to reject H0)\n",
            " \n",
            "has_secondary_use_other\n",
            "dof=4\n",
            "probability=0.950, critical=9.488, stat=367.912\n",
            "Dependent (reject H0)\n",
            "significance=0.050, p=0.000\n",
            "Dependent (reject H0)\n",
            " \n",
            "has_superstructure_adobe_mud\n",
            "dof=4\n",
            "probability=0.950, critical=9.488, stat=7518.875\n",
            "Dependent (reject H0)\n",
            "significance=0.050, p=0.000\n",
            "Dependent (reject H0)\n",
            " \n",
            "has_superstructure_mud_mortar_stone\n",
            "dof=4\n",
            "probability=0.950, critical=9.488, stat=78104.135\n",
            "Dependent (reject H0)\n",
            "significance=0.050, p=0.000\n",
            "Dependent (reject H0)\n",
            " \n",
            "has_superstructure_stone_flag\n",
            "dof=4\n",
            "probability=0.950, critical=9.488, stat=2567.477\n",
            "Dependent (reject H0)\n",
            "significance=0.050, p=0.000\n",
            "Dependent (reject H0)\n",
            " \n",
            "has_superstructure_cement_mortar_stone\n",
            "dof=4\n",
            "probability=0.950, critical=9.488, stat=3658.148\n",
            "Dependent (reject H0)\n",
            "significance=0.050, p=0.000\n",
            "Dependent (reject H0)\n",
            " \n",
            "has_superstructure_mud_mortar_brick\n",
            "dof=4\n",
            "probability=0.950, critical=9.488, stat=5503.226\n",
            "Dependent (reject H0)\n",
            "significance=0.050, p=0.000\n",
            "Dependent (reject H0)\n",
            " \n",
            "has_superstructure_cement_mortar_brick\n",
            "dof=4\n",
            "probability=0.950, critical=9.488, stat=63016.243\n",
            "Dependent (reject H0)\n",
            "significance=0.050, p=0.000\n",
            "Dependent (reject H0)\n",
            " \n",
            "has_superstructure_timber\n",
            "dof=4\n",
            "probability=0.950, critical=9.488, stat=4264.732\n",
            "Dependent (reject H0)\n",
            "significance=0.050, p=0.000\n",
            "Dependent (reject H0)\n",
            " \n",
            "has_superstructure_bamboo\n",
            "dof=4\n",
            "probability=0.950, critical=9.488, stat=3825.490\n",
            "Dependent (reject H0)\n",
            "significance=0.050, p=0.000\n",
            "Dependent (reject H0)\n",
            " \n",
            "has_superstructure_rc_non_engineered\n",
            "dof=4\n",
            "probability=0.950, critical=9.488, stat=28652.127\n",
            "Dependent (reject H0)\n",
            "significance=0.050, p=0.000\n",
            "Dependent (reject H0)\n",
            " \n",
            "has_superstructure_rc_engineered\n",
            "dof=4\n",
            "probability=0.950, critical=9.488, stat=37327.720\n",
            "Dependent (reject H0)\n",
            "significance=0.050, p=0.000\n",
            "Dependent (reject H0)\n",
            " \n",
            "has_superstructure_other\n",
            "dof=4\n",
            "probability=0.950, critical=9.488, stat=810.570\n",
            "Dependent (reject H0)\n",
            "significance=0.050, p=0.000\n",
            "Dependent (reject H0)\n",
            " \n",
            "has_geotechnical_risk\n",
            "dof=4\n",
            "probability=0.950, critical=9.488, stat=5002.422\n",
            "Dependent (reject H0)\n",
            "significance=0.050, p=0.000\n",
            "Dependent (reject H0)\n",
            " \n",
            "has_geotechnical_risk_fault_crack\n",
            "dof=4\n",
            "probability=0.950, critical=9.488, stat=6414.182\n",
            "Dependent (reject H0)\n",
            "significance=0.050, p=0.000\n",
            "Dependent (reject H0)\n",
            " \n",
            "has_geotechnical_risk_flood\n",
            "dof=4\n",
            "probability=0.950, critical=9.488, stat=641.109\n",
            "Dependent (reject H0)\n",
            "significance=0.050, p=0.000\n",
            "Dependent (reject H0)\n",
            " \n",
            "has_geotechnical_risk_land_settlement\n",
            "dof=4\n",
            "probability=0.950, critical=9.488, stat=2121.550\n",
            "Dependent (reject H0)\n",
            "significance=0.050, p=0.000\n",
            "Dependent (reject H0)\n",
            " \n",
            "has_geotechnical_risk_landslide\n",
            "dof=4\n",
            "probability=0.950, critical=9.488, stat=3088.089\n",
            "Dependent (reject H0)\n",
            "significance=0.050, p=0.000\n",
            "Dependent (reject H0)\n",
            " \n",
            "has_geotechnical_risk_liquefaction\n",
            "dof=4\n",
            "probability=0.950, critical=9.488, stat=281.471\n",
            "Dependent (reject H0)\n",
            "significance=0.050, p=0.000\n",
            "Dependent (reject H0)\n",
            " \n",
            "has_geotechnical_risk_other\n",
            "dof=4\n",
            "probability=0.950, critical=9.488, stat=37.684\n",
            "Dependent (reject H0)\n",
            "significance=0.050, p=0.000\n",
            "Dependent (reject H0)\n",
            " \n",
            "has_geotechnical_risk_rock_fall\n",
            "dof=4\n",
            "probability=0.950, critical=9.488, stat=2658.210\n",
            "Dependent (reject H0)\n",
            "significance=0.050, p=0.000\n",
            "Dependent (reject H0)\n",
            " \n"
          ],
          "name": "stdout"
        }
      ]
    },
    {
      "cell_type": "code",
      "metadata": {
        "id": "O0n6_l-MhiZt"
      },
      "source": [
        "trainfinal.drop(['has_secondary_use_use_police','building_id'], axis = 1,inplace=True)\n",
        "testfinal.drop(['has_secondary_use_use_police','building_id'], axis = 1,inplace=True)"
      ],
      "execution_count": null,
      "outputs": []
    },
    {
      "cell_type": "code",
      "metadata": {
        "id": "yJI6h5CbhiZt"
      },
      "source": [
        "cont = [c for c in trainfinal if len(trainfinal[c].unique()) > 15]\n",
        "indices = 0,1,2,3\n",
        "cont = [i for j, i in enumerate(cont) if j not in indices]"
      ],
      "execution_count": null,
      "outputs": []
    },
    {
      "cell_type": "code",
      "metadata": {
        "id": "UW_Gd1fhhiZt"
      },
      "source": [
        "train_copy = trainfinal\n",
        "test_copy = testfinal"
      ],
      "execution_count": null,
      "outputs": []
    },
    {
      "cell_type": "code",
      "metadata": {
        "id": "yZZhWnw2hiZt"
      },
      "source": [
        "train_copy['IsPrivate'] = (train_copy[\"legal_ownership_status\"] == \"Private\") * 1 \n",
        "test_copy['IsPrivate'] = (test_copy[\"legal_ownership_status\"] == \"Private\") * 1"
      ],
      "execution_count": null,
      "outputs": []
    },
    {
      "cell_type": "code",
      "metadata": {
        "id": "a4ZGNSWJhiZu"
      },
      "source": [
        "train_copy['IsFlat'] = (train_copy[\"land_surface_condition\"] == \"Flat\") * 1\n",
        "test_copy['IsFlat'] = (test_copy[\"land_surface_condition\"] == \"Flat\") * 1\n",
        "train_copy['IsMudFoundation'] = (train_copy[\"foundation_type\"] == \"Mud mortar-Stone/Brick\") * 1\n",
        "test_copy['IsMudFoundation'] = (test_copy[\"foundation_type\"] == \"Mud mortar-Stone/Brick\") * 1\n",
        "train_copy['IsBambooRoofLight'] = (train_copy[\"roof_type\"] == \"Bamboo/Timber-Light roof\") * 1\n",
        "test_copy['IsBambooRoofLight'] = (test_copy[\"roof_type\"] == \"Bamboo/Timber-Light roof\") * 1\n",
        "train_copy['IsFloorTypeMud'] = (train_copy[\"ground_floor_type\"] == \"Mud\") * 1\n",
        "test_copy['IsFloorTypeMud'] = (test_copy[\"ground_floor_type\"] == \"Mud\") * 1\n",
        "train_copy['OtherFloorTypeMud'] = (train_copy[\"other_floor_type\"] == \"TImber/Bamboo-Mud\") * 1\n",
        "test_copy['OtherFloorTypeMud'] = (test_copy[\"other_floor_type\"] == \"TImber/Bamboo-Mud\") * 1\n",
        "train_copy['IsNotAttached'] = (train_copy[\"position\"] == \"Not attached\") * 1\n",
        "test_copy['IsNotAttached'] = (test_copy[\"position\"] == \"Not attached\") * 1\n",
        "train_copy['IsPlanConfigRectangular'] = (train_copy[\"plan_configuration\"] == \"Rectangular\") * 1\n",
        "test_copy['IsPlanConfigRectangular'] = (test_copy[\"plan_configuration\"] == \"Rectangular\") * 1\n",
        "train_copy['count_floors_change'] = (train_copy['count_floors_post_eq'] - train_copy['count_floors_pre_eq'])\n",
        "train_copy['height_ft_change'] = (train_copy['height_ft_post_eq'] - train_copy['height_ft_pre_eq'])\n",
        "test_copy['count_floors_change'] = (test_copy['count_floors_post_eq'] - test_copy['count_floors_pre_eq'])\n",
        "test_copy['height_ft_change'] = (test_copy['height_ft_post_eq'] - test_copy['height_ft_pre_eq'])"
      ],
      "execution_count": null,
      "outputs": []
    },
    {
      "cell_type": "code",
      "metadata": {
        "id": "ZZjlcW-ChiZu"
      },
      "source": [
        "train_copy.drop(['count_floors_pre_eq', 'height_ft_pre_eq'], axis=1, inplace=True)\n",
        "test_copy.drop(['count_floors_pre_eq', 'height_ft_pre_eq'], axis=1, inplace=True)"
      ],
      "execution_count": null,
      "outputs": []
    },
    {
      "cell_type": "code",
      "metadata": {
        "id": "vWkr5KoKhiZu"
      },
      "source": [
        "remove_columns = [\"legal_ownership_status\",\"land_surface_condition\",\"foundation_type\",\"roof_type\",\"ground_floor_type\",\"other_floor_type\",\"position\",\"plan_configuration\",\"count_floors_post_eq\",\"height_ft_post_eq\"]\n",
        "def dropColumns(res_train_copy,res_test_copy,remove_columns):\n",
        "  for i in remove_columns:\n",
        "    res_train_copy.drop([i],axis = 1, inplace = True)\n",
        "    res_test_copy.drop([i],axis = 1, inplace = True)\n",
        "    \n",
        "  return res_train_copy,res_test_copy"
      ],
      "execution_count": null,
      "outputs": []
    },
    {
      "cell_type": "code",
      "metadata": {
        "id": "yQ1nPFF2hiZu"
      },
      "source": [
        "train_copy, test_copy = dropColumns(train_copy,test_copy,remove_columns)"
      ],
      "execution_count": null,
      "outputs": []
    },
    {
      "cell_type": "code",
      "metadata": {
        "id": "sVSaPJ8shiZu",
        "outputId": "ff1c38fe-15e7-44e1-d6c4-88a52ddcc4d5"
      },
      "source": [
        "train_copy.shape"
      ],
      "execution_count": null,
      "outputs": [
        {
          "output_type": "execute_result",
          "data": {
            "text/plain": [
              "(631761, 48)"
            ]
          },
          "metadata": {
            "tags": []
          },
          "execution_count": 65
        }
      ]
    },
    {
      "cell_type": "code",
      "metadata": {
        "id": "AnvioiSyhiZv"
      },
      "source": [
        "train_copy['count_families'].fillna(train_copy['count_families'].mode()[0],inplace=True)\n",
        "test_copy['count_families'].fillna(test_copy['count_families'].mode()[0],inplace=True)"
      ],
      "execution_count": null,
      "outputs": []
    },
    {
      "cell_type": "code",
      "metadata": {
        "id": "9aV73w_YhiZv"
      },
      "source": [
        "train_one_hot = pd.get_dummies(train_copy)\n",
        "test_one_hot = pd.get_dummies(test_copy)\n",
        "train_one_hot.drop([\"district_id_x\",\"vdcmun_id_x\",\"ward_id_x\"],axis = 1, inplace = True)\n",
        "test_one_hot.drop([\"district_id_x\",\"vdcmun_id_x\",\"ward_id_x\"],axis = 1, inplace = True)"
      ],
      "execution_count": null,
      "outputs": []
    },
    {
      "cell_type": "code",
      "metadata": {
        "id": "CwR_nGw7hiZv"
      },
      "source": [
        "y_train = train_copy['damage_grade']\n",
        "train_copy.drop(['damage_grade'], axis = 1, inplace = True)"
      ],
      "execution_count": null,
      "outputs": []
    },
    {
      "cell_type": "code",
      "metadata": {
        "id": "vRsMzTWThiZv",
        "outputId": "4843abef-23ec-4f5b-b033-86943ff4c3b8"
      },
      "source": [
        "test_one_hot.columns"
      ],
      "execution_count": null,
      "outputs": [
        {
          "output_type": "execute_result",
          "data": {
            "text/plain": [
              "Index(['count_families', 'has_secondary_use', 'has_secondary_use_agriculture',\n",
              "       'has_secondary_use_hotel', 'has_secondary_use_rental',\n",
              "       'has_secondary_use_institution', 'has_secondary_use_school',\n",
              "       'has_secondary_use_industry', 'has_secondary_use_health_post',\n",
              "       'has_secondary_use_gov_office', 'has_secondary_use_other',\n",
              "       'age_building', 'plinth_area_sq_ft', 'has_superstructure_adobe_mud',\n",
              "       'has_superstructure_mud_mortar_stone', 'has_superstructure_stone_flag',\n",
              "       'has_superstructure_cement_mortar_stone',\n",
              "       'has_superstructure_mud_mortar_brick',\n",
              "       'has_superstructure_cement_mortar_brick', 'has_superstructure_timber',\n",
              "       'has_superstructure_bamboo', 'has_superstructure_rc_non_engineered',\n",
              "       'has_superstructure_rc_engineered', 'has_superstructure_other',\n",
              "       'has_geotechnical_risk', 'has_geotechnical_risk_fault_crack',\n",
              "       'has_geotechnical_risk_flood', 'has_geotechnical_risk_land_settlement',\n",
              "       'has_geotechnical_risk_landslide', 'has_geotechnical_risk_liquefaction',\n",
              "       'has_geotechnical_risk_other', 'has_geotechnical_risk_rock_fall',\n",
              "       'IsPrivate', 'IsFlat', 'IsMudFoundation', 'IsBambooRoofLight',\n",
              "       'IsFloorTypeMud', 'OtherFloorTypeMud', 'IsNotAttached',\n",
              "       'IsPlanConfigRectangular', 'count_floors_change', 'height_ft_change',\n",
              "       'condition_post_eq_Covered by landslide',\n",
              "       'condition_post_eq_Damaged-Not used',\n",
              "       'condition_post_eq_Damaged-Repaired and used',\n",
              "       'condition_post_eq_Damaged-Rubble Clear-New building built',\n",
              "       'condition_post_eq_Damaged-Rubble clear',\n",
              "       'condition_post_eq_Damaged-Rubble unclear',\n",
              "       'condition_post_eq_Damaged-Used in risk',\n",
              "       'condition_post_eq_Not damaged', 'area_assesed_Both',\n",
              "       'area_assesed_Building removed', 'area_assesed_Exterior',\n",
              "       'area_assesed_Interior', 'area_assesed_Not able to inspect'],\n",
              "      dtype='object')"
            ]
          },
          "metadata": {
            "tags": []
          },
          "execution_count": 77
        }
      ]
    },
    {
      "cell_type": "code",
      "metadata": {
        "id": "QwYzDZ0_hiZv"
      },
      "source": [
        "y_test = pd.read_csv('dataset/sample_submission.csv')"
      ],
      "execution_count": null,
      "outputs": []
    },
    {
      "cell_type": "code",
      "metadata": {
        "id": "XAq9vFUThiZv",
        "outputId": "96fcd657-687d-4b82-b597-80a5a6af5269"
      },
      "source": [
        "from sklearn.metrics import classification_report,f1_score,precision_score,recall_score,accuracy_score\n",
        "from sklearn.linear_model import LogisticRegression\n",
        "clf_lr = LogisticRegression(random_state=0)\n",
        "clf_lr.fit(train_one_hot,y_train)\n",
        "pred = clf_lr.predict(test_one_hot)"
      ],
      "execution_count": null,
      "outputs": [
        {
          "output_type": "stream",
          "text": [
            "C:\\Users\\kondaveeti\\anaconda3\\envs\\tcl\\lib\\site-packages\\sklearn\\linear_model\\_logistic.py:764: ConvergenceWarning: lbfgs failed to converge (status=1):\n",
            "STOP: TOTAL NO. of ITERATIONS REACHED LIMIT.\n",
            "\n",
            "Increase the number of iterations (max_iter) or scale the data as shown in:\n",
            "    https://scikit-learn.org/stable/modules/preprocessing.html\n",
            "Please also refer to the documentation for alternative solver options:\n",
            "    https://scikit-learn.org/stable/modules/linear_model.html#logistic-regression\n",
            "  extra_warning_msg=_LOGISTIC_SOLVER_CONVERGENCE_MSG)\n"
          ],
          "name": "stderr"
        }
      ]
    },
    {
      "cell_type": "code",
      "metadata": {
        "id": "HkSfnw6UhiZw"
      },
      "source": [
        "clf_lr.score(train_one_hot,y_train)"
      ],
      "execution_count": null,
      "outputs": []
    },
    {
      "cell_type": "code",
      "metadata": {
        "id": "G0b2AcLHhiZw",
        "outputId": "fe2e9a6f-ef6c-4eec-b7d0-53663415988a"
      },
      "source": [
        "from sklearn.naive_bayes import GaussianNB\n",
        "clf_gnb = GaussianNB()\n",
        "clf_gnb.fit(train_one_hot,y_train)\n",
        "pred = clf_gnb.predict(test_one_hot)\n",
        "clf_lr.score(train_one_hot,y_train)"
      ],
      "execution_count": null,
      "outputs": [
        {
          "output_type": "stream",
          "text": [
            "Accuracy:  0.19985516709206386\n"
          ],
          "name": "stdout"
        }
      ]
    },
    {
      "cell_type": "code",
      "metadata": {
        "id": "nTPggxrUhiZw",
        "outputId": "593acf51-c58c-4718-8e1e-953758401727"
      },
      "source": [
        "from sklearn.ensemble import RandomForestClassifier\n",
        "clf_rfc = RandomForestClassifier(random_state=0)\n",
        "clf_rfc.fit(train_one_hot,y_train)\n",
        "pred = clf_rfc.predict(test_one_hot)\n",
        "clf_lr.score(train_one_hot,y_train)"
      ],
      "execution_count": null,
      "outputs": [
        {
          "output_type": "stream",
          "text": [
            "Accuracy:  0.19991689915118419\n"
          ],
          "name": "stdout"
        }
      ]
    },
    {
      "cell_type": "code",
      "metadata": {
        "id": "E7G7ogYahiZw",
        "outputId": "ae697867-728b-45b2-8794-3e7286d8c38f"
      },
      "source": [
        "from sklearn.neighbors import KNeighborsClassifier\n",
        "clf_knn = KNeighborsClassifier()\n",
        "clf_knn.fit(train_one_hot,y_train)\n",
        "pred = clf_knn.predict(test_one_hot)\n",
        "clf_lr.score(train_one_hot,y_train)"
      ],
      "execution_count": null,
      "outputs": [
        {
          "output_type": "stream",
          "text": [
            "Accuracy:  0.20006885498901883\n"
          ],
          "name": "stdout"
        }
      ]
    },
    {
      "cell_type": "code",
      "metadata": {
        "id": "0530ltrlhiZw",
        "outputId": "54effbbf-7150-4c69-a81a-0eb0e4c14a43"
      },
      "source": [
        "from xgboost import XGBClassifier\n",
        "model = XGBClassifier()\n",
        "model.fit(train_one_hot, y_train)\n",
        "pred = model.predict(test_one_hot)\n",
        "clf_lr.score(train_one_hot,y_train)"
      ],
      "execution_count": null,
      "outputs": [
        {
          "output_type": "stream",
          "text": [
            "Accuracy:  0.19951564076690212\n"
          ],
          "name": "stdout"
        }
      ]
    },
    {
      "cell_type": "code",
      "metadata": {
        "id": "rhnFiwSHhiZw",
        "outputId": "34d74a82-01c2-41e7-e8bb-600043ceb19c"
      },
      "source": [
        "model.score(train_one_hot, y_train)"
      ],
      "execution_count": null,
      "outputs": [
        {
          "output_type": "execute_result",
          "data": {
            "text/plain": [
              "0.7187813112870215"
            ]
          },
          "metadata": {
            "tags": []
          },
          "execution_count": 94
        }
      ]
    },
    {
      "cell_type": "code",
      "metadata": {
        "id": "fC345uRmhiZw",
        "outputId": "14f208c4-52c6-413e-a5d0-40dff2cf21ca"
      },
      "source": [
        "clf_knn.score(train_one_hot,y_train)"
      ],
      "execution_count": null,
      "outputs": [
        {
          "output_type": "execute_result",
          "data": {
            "text/plain": [
              "0.7475501020164271"
            ]
          },
          "metadata": {
            "tags": []
          },
          "execution_count": 95
        }
      ]
    },
    {
      "cell_type": "code",
      "metadata": {
        "id": "SUkXyR7EhiZx",
        "outputId": "a5901920-6557-4139-9ab3-2b1a8cdff20d"
      },
      "source": [
        "clf_rfc.score(train_one_hot,y_train)"
      ],
      "execution_count": null,
      "outputs": [
        {
          "output_type": "execute_result",
          "data": {
            "text/plain": [
              "0.9650389941765952"
            ]
          },
          "metadata": {
            "tags": []
          },
          "execution_count": 97
        }
      ]
    },
    {
      "cell_type": "code",
      "metadata": {
        "id": "X8NkPPFChiZx",
        "outputId": "50f91eb0-138e-4848-cd80-613f175772f6"
      },
      "source": [
        "feature_imp = pd.Series(clf_rfc.feature_importances_,index=train_one_hot.columns).sort_values(ascending=False)\n",
        "feature_imp.head()"
      ],
      "execution_count": null,
      "outputs": [
        {
          "output_type": "execute_result",
          "data": {
            "text/plain": [
              "plinth_area_sq_ft                0.210605\n",
              "age_building                     0.119797\n",
              "height_ft_change                 0.095388\n",
              "count_floors_change              0.084888\n",
              "condition_post_eq_Not damaged    0.068078\n",
              "dtype: float64"
            ]
          },
          "metadata": {
            "tags": []
          },
          "execution_count": 98
        }
      ]
    },
    {
      "cell_type": "code",
      "metadata": {
        "id": "OqB5dJm5hiZx",
        "outputId": "38cef5cf-23d3-41a3-c9d0-6a55636f2e14"
      },
      "source": [
        "import matplotlib.pyplot as plt\n",
        "import seaborn as sns\n",
        "%matplotlib inline\n",
        "# Creating a bar plot\n",
        "sns.barplot(x=feature_imp, y=feature_imp.index)\n",
        "# Add labels to your graph\n",
        "plt.xlabel('Feature Importance Score')\n",
        "plt.ylabel('Features')\n",
        "plt.title(\"Visualizing Important Features\")\n",
        "plt.legend()\n",
        "plt.show()"
      ],
      "execution_count": null,
      "outputs": [
        {
          "output_type": "stream",
          "text": [
            "No handles with labels found to put in legend.\n"
          ],
          "name": "stderr"
        },
        {
          "output_type": "display_data",
          "data": {
            "image/png": "[encoded data removed]",
            "text/plain": [
              "<Figure size 432x288 with 1 Axes>"
            ]
          },
          "metadata": {
            "tags": [],
            "needs_background": "light"
          }
        }
      ]
    },
    {
      "cell_type": "code",
      "metadata": {
        "id": "dd0rcu_phiZx"
      },
      "source": [
        ""
      ],
      "execution_count": null,
      "outputs": []
    }
  ]
}