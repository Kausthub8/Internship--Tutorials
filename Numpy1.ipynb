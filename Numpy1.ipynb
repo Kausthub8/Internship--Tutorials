{
  "nbformat": 4,
  "nbformat_minor": 0,
  "metadata": {
    "colab": {
      "name": "Numpy1.ipynb",
      "provenance": []
    },
    "kernelspec": {
      "name": "python3",
      "display_name": "Python 3"
    },
    "language_info": {
      "name": "python"
    }
  },
  "cells": [
    {
      "cell_type": "code",
      "metadata": {
        "colab": {
          "base_uri": "https://localhost:8080/"
        },
        "id": "oIxJg_5z5Piq",
        "outputId": "45c7db7e-9a2e-4239-f087-38a5e091516f"
      },
      "source": [
        "import numpy as np  #as - alias\n",
        "print(np.__version__)\n"
      ],
      "execution_count": null,
      "outputs": [
        {
          "output_type": "stream",
          "text": [
            "1.19.5\n"
          ],
          "name": "stdout"
        }
      ]
    },
    {
      "cell_type": "code",
      "metadata": {
        "id": "2F9GG96RjXCU"
      },
      "source": [
        ""
      ],
      "execution_count": null,
      "outputs": []
    },
    {
      "cell_type": "code",
      "metadata": {
        "colab": {
          "base_uri": "https://localhost:8080/"
        },
        "id": "lWT6Z_lDAbou",
        "outputId": "533f3c23-5116-492d-9447-20011c8ac4ed"
      },
      "source": [
        "ar1 = np.array([1,2,3,4,5])  #1-D\n",
        "print(type(ar1))"
      ],
      "execution_count": null,
      "outputs": [
        {
          "output_type": "stream",
          "text": [
            "<class 'numpy.ndarray'>\n"
          ],
          "name": "stdout"
        }
      ]
    },
    {
      "cell_type": "code",
      "metadata": {
        "colab": {
          "base_uri": "https://localhost:8080/"
        },
        "id": "JLLnJzNSBR32",
        "outputId": "37477224-6c6a-4365-ec29-f5116b436302"
      },
      "source": [
        "#2-D\n",
        "\n",
        "ar1 = np.array([[1,2,3], [4,5,6]])\n",
        "print(ar1.ndim)"
      ],
      "execution_count": null,
      "outputs": [
        {
          "output_type": "stream",
          "text": [
            "2\n"
          ],
          "name": "stdout"
        }
      ]
    },
    {
      "cell_type": "code",
      "metadata": {
        "colab": {
          "base_uri": "https://localhost:8080/"
        },
        "id": "UUFURBJvCgKk",
        "outputId": "7f7bfb81-8caf-4c55-b2d8-3b4d817d834c"
      },
      "source": [
        "arr = np.array([1,2,3,4])\n",
        "print(arr[-1])"
      ],
      "execution_count": null,
      "outputs": [
        {
          "output_type": "stream",
          "text": [
            "4\n"
          ],
          "name": "stdout"
        }
      ]
    },
    {
      "cell_type": "code",
      "metadata": {
        "colab": {
          "base_uri": "https://localhost:8080/"
        },
        "id": "hoD8M7IbDERD",
        "outputId": "3361b1d6-f608-4ccd-963a-8c3444af927c"
      },
      "source": [
        "#Slicing\n",
        "\n",
        "arr = np.array([1,2,3,4,5,6,7])\n",
        "print(arr[1:7:2])"
      ],
      "execution_count": null,
      "outputs": [
        {
          "output_type": "stream",
          "text": [
            "[2 4 6]\n"
          ],
          "name": "stdout"
        }
      ]
    },
    {
      "cell_type": "code",
      "metadata": {
        "colab": {
          "base_uri": "https://localhost:8080/"
        },
        "id": "LSSq1kP6Eh0F",
        "outputId": "505e5a37-9462-483c-e660-5013e4eed31d"
      },
      "source": [
        "# Datatypes:\n",
        "\n",
        "arr = np.array([1,2,3,4], dtype = 'i4')\n",
        "print(arr.dtype)"
      ],
      "execution_count": null,
      "outputs": [
        {
          "output_type": "stream",
          "text": [
            "int32\n"
          ],
          "name": "stdout"
        }
      ]
    },
    {
      "cell_type": "code",
      "metadata": {
        "colab": {
          "base_uri": "https://localhost:8080/"
        },
        "id": "FFWUw0UfFoiE",
        "outputId": "c6f420d4-8b34-4e73-d2d5-16d4935b701e"
      },
      "source": [
        "#Conversion\n",
        "\n",
        "arr = np.array([1,0,2])\n",
        "\n",
        "newar1 = arr.astype(bool)\n",
        "\n",
        "print(newar1)\n",
        "print(newar1.dtype)"
      ],
      "execution_count": null,
      "outputs": [
        {
          "output_type": "stream",
          "text": [
            "[ True False  True]\n",
            "bool\n"
          ],
          "name": "stdout"
        }
      ]
    },
    {
      "cell_type": "code",
      "metadata": {
        "colab": {
          "base_uri": "https://localhost:8080/"
        },
        "id": "LI14j_USGPji",
        "outputId": "636fc23a-589b-4601-e2cd-e64b8ab9016f"
      },
      "source": [
        "# diff b/w copy and view func in numpy\n",
        "# copy - new array is created in a new location, view means viewing in same location\n",
        "\n",
        "\n",
        "arr = np.array([1,2,3,4])\n",
        "x = arr.copy()   # Copy\n",
        "arr[0] = 6\n",
        "print(arr)\n",
        "print(x)"
      ],
      "execution_count": null,
      "outputs": [
        {
          "output_type": "stream",
          "text": [
            "[6 2 3 4]\n",
            "[1 2 3 4]\n"
          ],
          "name": "stdout"
        }
      ]
    },
    {
      "cell_type": "code",
      "metadata": {
        "colab": {
          "base_uri": "https://localhost:8080/"
        },
        "id": "X6rQt0nnH9gk",
        "outputId": "7b6b9da5-4d34-4269-ee29-27c4022c6796"
      },
      "source": [
        "arr = np.array([1,2,3,4])\n",
        "x = arr.view()  # View\n",
        "arr[0] = 6\n",
        "print(arr)\n",
        "print(x)\n"
      ],
      "execution_count": null,
      "outputs": [
        {
          "output_type": "stream",
          "text": [
            "[6 2 3 4]\n",
            "[6 2 3 4]\n"
          ],
          "name": "stdout"
        }
      ]
    },
    {
      "cell_type": "code",
      "metadata": {
        "colab": {
          "base_uri": "https://localhost:8080/"
        },
        "id": "7Vz8V1tLIbjJ",
        "outputId": "3c4a85d8-21e5-416c-d4e6-299e63f3108f"
      },
      "source": [
        "#Shape\n",
        "# in rows vs columns or elements in a tuple\n",
        "\n",
        "arr = np.array([[1,2,3,4], [5,6,7,8]])\n",
        "print(arr.shape)\n",
        "\n"
      ],
      "execution_count": null,
      "outputs": [
        {
          "output_type": "stream",
          "text": [
            "(2, 4)\n"
          ],
          "name": "stdout"
        }
      ]
    },
    {
      "cell_type": "code",
      "metadata": {
        "colab": {
          "base_uri": "https://localhost:8080/"
        },
        "id": "TTCe_krEJK_r",
        "outputId": "e0ed97b8-3a77-466f-9388-dd831b78474d"
      },
      "source": [
        "#Reshape 1D TO 3D\n",
        "\n",
        "arr = np.array([1,2,3,4,5,6,7,8,9,10,12,13])\n",
        "newarr = arr.reshape(2,3,2)\n",
        "print(newarr)"
      ],
      "execution_count": null,
      "outputs": [
        {
          "output_type": "stream",
          "text": [
            "[[[ 1  2]\n",
            "  [ 3  4]\n",
            "  [ 5  6]]\n",
            "\n",
            " [[ 7  8]\n",
            "  [ 9 10]\n",
            "  [12 13]]]\n"
          ],
          "name": "stdout"
        }
      ]
    },
    {
      "cell_type": "code",
      "metadata": {
        "colab": {
          "base_uri": "https://localhost:8080/"
        },
        "id": "aq2ZdnSMjYdS",
        "outputId": "e0e086a5-bf0d-47a3-c012-d9bd53cf4874"
      },
      "source": [
        "#Iteration in Numpy\n",
        "import numpy as np\n",
        "arr = np.array([[1,2,3], [4,5,6]])\n",
        "for x in arr:\n",
        "  print(x)"
      ],
      "execution_count": null,
      "outputs": [
        {
          "output_type": "stream",
          "text": [
            "[1 2 3]\n",
            "[4 5 6]\n"
          ],
          "name": "stdout"
        }
      ]
    },
    {
      "cell_type": "code",
      "metadata": {
        "colab": {
          "base_uri": "https://localhost:8080/"
        },
        "id": "h_hEOT2jkXP8",
        "outputId": "2222269d-86d2-4e20-f0a0-91a482308535"
      },
      "source": [
        "#nditer()\n",
        "\n",
        "arr = np.array([[[1,2],[3,4],[5,6],[7,8]]])\n",
        "for x in np.nditer(arr):\n",
        "  print(x)"
      ],
      "execution_count": null,
      "outputs": [
        {
          "output_type": "stream",
          "text": [
            "1\n",
            "2\n",
            "3\n",
            "4\n",
            "5\n",
            "6\n",
            "7\n",
            "8\n"
          ],
          "name": "stdout"
        }
      ]
    },
    {
      "cell_type": "code",
      "metadata": {
        "colab": {
          "base_uri": "https://localhost:8080/"
        },
        "id": "li_2zsCalMUy",
        "outputId": "5507d8a1-c69b-483d-c9f3-c2fdf97fb9ed"
      },
      "source": [
        "#Joining arrays\n",
        "\n",
        "ar1 = np.array([1,2,3])\n",
        "ar2 = np.array([4,5,6])\n",
        "\n",
        "arr = np.stack((ar1,ar2),axis = 1)\n",
        "print(arr)"
      ],
      "execution_count": null,
      "outputs": [
        {
          "output_type": "stream",
          "text": [
            "[[1 4]\n",
            " [2 5]\n",
            " [3 6]]\n"
          ],
          "name": "stdout"
        }
      ]
    },
    {
      "cell_type": "code",
      "metadata": {
        "colab": {
          "base_uri": "https://localhost:8080/"
        },
        "id": "xa7rqVRznRQr",
        "outputId": "ad4e6da6-d6b8-4ccd-9f54-ae83c4dec928"
      },
      "source": [
        "#Split numpy arrays\n",
        "# array_split()\n",
        "\n",
        "\n",
        "arr = np.array([1,2,3,4,5,6])\n",
        "newarr = np.array_split(arr,5)\n",
        "print(newarr)"
      ],
      "execution_count": null,
      "outputs": [
        {
          "output_type": "stream",
          "text": [
            "[array([1, 2]), array([3]), array([4]), array([5]), array([6])]\n"
          ],
          "name": "stdout"
        }
      ]
    },
    {
      "cell_type": "code",
      "metadata": {
        "colab": {
          "base_uri": "https://localhost:8080/"
        },
        "id": "87g0DQwZoO_a",
        "outputId": "680c62e0-540a-4bda-c772-ececff217f37"
      },
      "source": [
        "#Searching arrays\n",
        "# where()\n",
        "\n",
        "arr = np.array([1,2,3,4,5,6,7,8])\n",
        "x = np.where(arr%2 == 1)\n",
        "print(x)\n",
        "\n"
      ],
      "execution_count": null,
      "outputs": [
        {
          "output_type": "stream",
          "text": [
            "(array([0, 2, 4, 6]),)\n"
          ],
          "name": "stdout"
        }
      ]
    },
    {
      "cell_type": "code",
      "metadata": {
        "colab": {
          "base_uri": "https://localhost:8080/"
        },
        "id": "qncF_AH6qNeq",
        "outputId": "4870cf60-e7cf-4969-b6e1-08a561e7ef9e"
      },
      "source": [
        "#Sorting arrays\n",
        "#ordered sequence\n",
        "# sort()\n",
        "\n",
        "arr =  np.array([True, False, True])\n",
        "print(np.sort(arr))"
      ],
      "execution_count": null,
      "outputs": [
        {
          "output_type": "stream",
          "text": [
            "[False  True  True]\n"
          ],
          "name": "stdout"
        }
      ]
    },
    {
      "cell_type": "code",
      "metadata": {
        "colab": {
          "base_uri": "https://localhost:8080/"
        },
        "id": "8Gum6w-NrkB6",
        "outputId": "9e2f7806-41d4-49e6-84f7-80b55128f8f2"
      },
      "source": [
        "# 2-D array sort\n",
        "\n",
        "arr = np.array([[4,2,3],[5,0,1]])\n",
        "print(np.sort(arr))"
      ],
      "execution_count": null,
      "outputs": [
        {
          "output_type": "stream",
          "text": [
            "[[2 3 4]\n",
            " [0 1 5]]\n"
          ],
          "name": "stdout"
        }
      ]
    },
    {
      "cell_type": "code",
      "metadata": {
        "colab": {
          "base_uri": "https://localhost:8080/"
        },
        "id": "YTp5ZeylsCvA",
        "outputId": "44b64207-7d36-4b90-eda8-f10ed2679075"
      },
      "source": [
        "#Filter Numpy Array\n",
        "\n",
        "arr = np.array([12,131,41,52])\n",
        "x = [True, False, True, False]\n",
        "newar1 = arr[x]\n",
        "print(newar1)"
      ],
      "execution_count": null,
      "outputs": [
        {
          "output_type": "stream",
          "text": [
            "[12 41]\n"
          ],
          "name": "stdout"
        }
      ]
    },
    {
      "cell_type": "code",
      "metadata": {
        "colab": {
          "base_uri": "https://localhost:8080/"
        },
        "id": "q6sWXVUAsoWY",
        "outputId": "418c3c1c-31bf-4100-84af-12bb0809da2a"
      },
      "source": [
        "#Random numbers in Numpy\n",
        "\n",
        "from numpy import random\n",
        "x = random.randint(100,size = (3,5))\n",
        "print(x)"
      ],
      "execution_count": null,
      "outputs": [
        {
          "output_type": "stream",
          "text": [
            "[[85 97 95 48 31]\n",
            " [31 73 82 47 31]\n",
            " [64 60  2 18 70]]\n"
          ],
          "name": "stdout"
        }
      ]
    }
  ]
}